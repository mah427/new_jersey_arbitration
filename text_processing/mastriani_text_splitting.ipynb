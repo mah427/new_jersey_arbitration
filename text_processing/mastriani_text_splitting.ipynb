{
 "cells": [
  {
   "cell_type": "code",
   "execution_count": 125,
   "id": "6df52fb7",
   "metadata": {},
   "outputs": [],
   "source": [
    "#Imports\n",
    "import pandas as pd\n",
    "import os\n",
    "import re"
   ]
  },
  {
   "cell_type": "code",
   "execution_count": 23,
   "id": "0c35e58d",
   "metadata": {},
   "outputs": [
    {
     "data": {
      "text/html": [
       "<div>\n",
       "<style scoped>\n",
       "    .dataframe tbody tr th:only-of-type {\n",
       "        vertical-align: middle;\n",
       "    }\n",
       "\n",
       "    .dataframe tbody tr th {\n",
       "        vertical-align: top;\n",
       "    }\n",
       "\n",
       "    .dataframe thead th {\n",
       "        text-align: right;\n",
       "    }\n",
       "</style>\n",
       "<table border=\"1\" class=\"dataframe\">\n",
       "  <thead>\n",
       "    <tr style=\"text-align: right;\">\n",
       "      <th></th>\n",
       "      <th>Unnamed: 0</th>\n",
       "      <th>Filename</th>\n",
       "      <th>Current Docket</th>\n",
       "      <th>Docket Numbers</th>\n",
       "      <th>Public Employer</th>\n",
       "      <th>Union</th>\n",
       "      <th>County</th>\n",
       "      <th>Arbitrator</th>\n",
       "      <th>Date Received</th>\n",
       "      <th>Award Type</th>\n",
       "      <th>Current Status</th>\n",
       "      <th>Appellate Court</th>\n",
       "      <th>Supreme Court</th>\n",
       "      <th>Raw Text</th>\n",
       "    </tr>\n",
       "  </thead>\n",
       "  <tbody>\n",
       "    <tr>\n",
       "      <th>0</th>\n",
       "      <td>4</td>\n",
       "      <td>IA-2020-007.pdf</td>\n",
       "      <td>IA-2020-007</td>\n",
       "      <td>IA-2020-007</td>\n",
       "      <td>Little Egg Harbor Tp</td>\n",
       "      <td>PBA Loc 295</td>\n",
       "      <td>Ocean</td>\n",
       "      <td>Mastriani, J</td>\n",
       "      <td>09/08/2020</td>\n",
       "      <td>Conventional</td>\n",
       "      <td>Award Issued</td>\n",
       "      <td>NaN</td>\n",
       "      <td>NaN</td>\n",
       "      <td>Docket No. IA-2020-007\\n\\nAppearances:\\n\\nFor ...</td>\n",
       "    </tr>\n",
       "    <tr>\n",
       "      <th>1</th>\n",
       "      <td>9</td>\n",
       "      <td>IA-2019-014.pdf</td>\n",
       "      <td>IA-2019-014</td>\n",
       "      <td>IA-2019-014</td>\n",
       "      <td>W Windsor Tp</td>\n",
       "      <td>PBA Loc 271</td>\n",
       "      <td>Mercer</td>\n",
       "      <td>Mastriani, J</td>\n",
       "      <td>06/25/2019</td>\n",
       "      <td>Conventional</td>\n",
       "      <td>Award Issued</td>\n",
       "      <td>NaN</td>\n",
       "      <td>NaN</td>\n",
       "      <td>NEW JERSEY PUBLIC EMPLOYMENT RELATIONS COMMISS...</td>\n",
       "    </tr>\n",
       "    <tr>\n",
       "      <th>5</th>\n",
       "      <td>22</td>\n",
       "      <td>IA-2010-044 &amp; IA-2010-059.pdf</td>\n",
       "      <td>IA-2010-059</td>\n",
       "      <td>IA-2010-059</td>\n",
       "      <td>Rutgers University</td>\n",
       "      <td>FOP Lodge 164 SOA</td>\n",
       "      <td>Middlesex</td>\n",
       "      <td>Mastriani, J</td>\n",
       "      <td>10/17/2016</td>\n",
       "      <td>Conventional</td>\n",
       "      <td>Award Issued</td>\n",
       "      <td>NaN</td>\n",
       "      <td>NaN</td>\n",
       "      <td>NEW JERSEY PUBLIC EMPLOYMENT RELATIONS COMMISS...</td>\n",
       "    </tr>\n",
       "    <tr>\n",
       "      <th>6</th>\n",
       "      <td>23</td>\n",
       "      <td>IA-2010-044 &amp; IA-2010-059.pdf</td>\n",
       "      <td>IA-2010-044</td>\n",
       "      <td>IA-2010-044</td>\n",
       "      <td>Rutgers University</td>\n",
       "      <td>FOP Lodge 62</td>\n",
       "      <td>Middlesex</td>\n",
       "      <td>Mastriani, J</td>\n",
       "      <td>10/17/2016</td>\n",
       "      <td>Conventional</td>\n",
       "      <td>Award Issued</td>\n",
       "      <td>NaN</td>\n",
       "      <td>NaN</td>\n",
       "      <td>NEW JERSEY PUBLIC EMPLOYMENT RELATIONS COMMISS...</td>\n",
       "    </tr>\n",
       "    <tr>\n",
       "      <th>9</th>\n",
       "      <td>27</td>\n",
       "      <td>IA-2010-101.pdf</td>\n",
       "      <td>IA-2010-101</td>\n",
       "      <td>IA-2010-101</td>\n",
       "      <td>Orange Twp</td>\n",
       "      <td>PBA Loc 89</td>\n",
       "      <td>Essex</td>\n",
       "      <td>Mastriani, J</td>\n",
       "      <td>07/07/2016</td>\n",
       "      <td>Conventional</td>\n",
       "      <td>Appealed</td>\n",
       "      <td>NaN</td>\n",
       "      <td>NaN</td>\n",
       "      <td>Appearances:\\n\\nFor the Employer:\\nJoseph M We...</td>\n",
       "    </tr>\n",
       "    <tr>\n",
       "      <th>10</th>\n",
       "      <td>32</td>\n",
       "      <td>IA-2015-014.pdf</td>\n",
       "      <td>IA-2015-014</td>\n",
       "      <td>IA-2015-014</td>\n",
       "      <td>Borough of Franklin Lakes</td>\n",
       "      <td>PBA Loc 150</td>\n",
       "      <td>Bergen</td>\n",
       "      <td>Mastriani, J</td>\n",
       "      <td>10/22/2015</td>\n",
       "      <td>Conventional</td>\n",
       "      <td>Award Issued</td>\n",
       "      <td>NaN</td>\n",
       "      <td>NaN</td>\n",
       "      <td>NEW JERSEY PUBLIC EMPLOYMENT RELATIONS COMMISS...</td>\n",
       "    </tr>\n",
       "    <tr>\n",
       "      <th>11</th>\n",
       "      <td>41</td>\n",
       "      <td>Award IA-2015-001.pdf</td>\n",
       "      <td>IA-2015-001</td>\n",
       "      <td>IA-2015-001</td>\n",
       "      <td>Atlantic Cty</td>\n",
       "      <td>PBA Loc 77</td>\n",
       "      <td>Atlantic</td>\n",
       "      <td>Mastriani, J</td>\n",
       "      <td>11/13/2014</td>\n",
       "      <td>Conventional</td>\n",
       "      <td>Award Issued</td>\n",
       "      <td>NaN</td>\n",
       "      <td>NaN</td>\n",
       "      <td>NEW JERSEY PUBLIC EMPLOYMENT RELATIONS COMMISS...</td>\n",
       "    </tr>\n",
       "    <tr>\n",
       "      <th>12</th>\n",
       "      <td>43</td>\n",
       "      <td>IA-2014-014.pdf</td>\n",
       "      <td>IA-2014-014</td>\n",
       "      <td>IA-2014-014</td>\n",
       "      <td>Atlantic Cty</td>\n",
       "      <td>FOP Lodge 34 (Corrections)</td>\n",
       "      <td>Atlantic</td>\n",
       "      <td>Mastriani, J</td>\n",
       "      <td>10/02/2014</td>\n",
       "      <td>Conventional</td>\n",
       "      <td>Award Issued</td>\n",
       "      <td>NaN</td>\n",
       "      <td>NaN</td>\n",
       "      <td>NEW JERSEY PUBLIC EMPLOYMENT RELATIONS COMMISS...</td>\n",
       "    </tr>\n",
       "    <tr>\n",
       "      <th>13</th>\n",
       "      <td>49</td>\n",
       "      <td>IA-2011-037.pdf</td>\n",
       "      <td>IA-2011-037</td>\n",
       "      <td>IA-2011-037</td>\n",
       "      <td>West Orange Tp</td>\n",
       "      <td>PBA Loc 25</td>\n",
       "      <td>Essex</td>\n",
       "      <td>Mastriani, J</td>\n",
       "      <td>03/04/2014</td>\n",
       "      <td>Conventional</td>\n",
       "      <td>Award Issued</td>\n",
       "      <td>NaN</td>\n",
       "      <td>NaN</td>\n",
       "      <td>In the Matter of Arbitration Between:\\n\\nTOWNS...</td>\n",
       "    </tr>\n",
       "    <tr>\n",
       "      <th>15</th>\n",
       "      <td>52</td>\n",
       "      <td>IA-2010-103.pdf</td>\n",
       "      <td>IA-2010-103</td>\n",
       "      <td>IA-2010-103</td>\n",
       "      <td>Borough of Metuchen</td>\n",
       "      <td>PBA Loc 60</td>\n",
       "      <td>Middlesex</td>\n",
       "      <td>Mastriani, J</td>\n",
       "      <td>01/15/2014</td>\n",
       "      <td>Conventional</td>\n",
       "      <td>Award Issued</td>\n",
       "      <td>NaN</td>\n",
       "      <td>NaN</td>\n",
       "      <td>BOROUGH OF METUCHEN,\\n“Public Employer,”\\n-and...</td>\n",
       "    </tr>\n",
       "  </tbody>\n",
       "</table>\n",
       "</div>"
      ],
      "text/plain": [
       "    Unnamed: 0                       Filename Current Docket Docket Numbers  \\\n",
       "0            4                IA-2020-007.pdf    IA-2020-007    IA-2020-007   \n",
       "1            9                IA-2019-014.pdf    IA-2019-014    IA-2019-014   \n",
       "5           22  IA-2010-044 & IA-2010-059.pdf    IA-2010-059    IA-2010-059   \n",
       "6           23  IA-2010-044 & IA-2010-059.pdf    IA-2010-044    IA-2010-044   \n",
       "9           27                IA-2010-101.pdf    IA-2010-101    IA-2010-101   \n",
       "10          32                IA-2015-014.pdf    IA-2015-014    IA-2015-014   \n",
       "11          41          Award IA-2015-001.pdf    IA-2015-001    IA-2015-001   \n",
       "12          43                IA-2014-014.pdf    IA-2014-014    IA-2014-014   \n",
       "13          49                IA-2011-037.pdf    IA-2011-037    IA-2011-037   \n",
       "15          52                IA-2010-103.pdf    IA-2010-103    IA-2010-103   \n",
       "\n",
       "              Public Employer                       Union     County  \\\n",
       "0        Little Egg Harbor Tp                 PBA Loc 295      Ocean   \n",
       "1                W Windsor Tp                 PBA Loc 271     Mercer   \n",
       "5          Rutgers University           FOP Lodge 164 SOA  Middlesex   \n",
       "6          Rutgers University                FOP Lodge 62  Middlesex   \n",
       "9                  Orange Twp                  PBA Loc 89      Essex   \n",
       "10  Borough of Franklin Lakes                 PBA Loc 150     Bergen   \n",
       "11               Atlantic Cty                  PBA Loc 77   Atlantic   \n",
       "12               Atlantic Cty  FOP Lodge 34 (Corrections)   Atlantic   \n",
       "13             West Orange Tp                  PBA Loc 25      Essex   \n",
       "15        Borough of Metuchen                  PBA Loc 60  Middlesex   \n",
       "\n",
       "      Arbitrator Date Received    Award Type Current Status  Appellate Court  \\\n",
       "0   Mastriani, J    09/08/2020  Conventional   Award Issued              NaN   \n",
       "1   Mastriani, J    06/25/2019  Conventional   Award Issued              NaN   \n",
       "5   Mastriani, J    10/17/2016  Conventional   Award Issued              NaN   \n",
       "6   Mastriani, J    10/17/2016  Conventional   Award Issued              NaN   \n",
       "9   Mastriani, J    07/07/2016  Conventional       Appealed              NaN   \n",
       "10  Mastriani, J    10/22/2015  Conventional   Award Issued              NaN   \n",
       "11  Mastriani, J    11/13/2014  Conventional   Award Issued              NaN   \n",
       "12  Mastriani, J    10/02/2014  Conventional   Award Issued              NaN   \n",
       "13  Mastriani, J    03/04/2014  Conventional   Award Issued              NaN   \n",
       "15  Mastriani, J    01/15/2014  Conventional   Award Issued              NaN   \n",
       "\n",
       "   Supreme Court                                           Raw Text  \n",
       "0            NaN  Docket No. IA-2020-007\\n\\nAppearances:\\n\\nFor ...  \n",
       "1            NaN  NEW JERSEY PUBLIC EMPLOYMENT RELATIONS COMMISS...  \n",
       "5            NaN  NEW JERSEY PUBLIC EMPLOYMENT RELATIONS COMMISS...  \n",
       "6            NaN  NEW JERSEY PUBLIC EMPLOYMENT RELATIONS COMMISS...  \n",
       "9            NaN  Appearances:\\n\\nFor the Employer:\\nJoseph M We...  \n",
       "10           NaN  NEW JERSEY PUBLIC EMPLOYMENT RELATIONS COMMISS...  \n",
       "11           NaN  NEW JERSEY PUBLIC EMPLOYMENT RELATIONS COMMISS...  \n",
       "12           NaN  NEW JERSEY PUBLIC EMPLOYMENT RELATIONS COMMISS...  \n",
       "13           NaN  In the Matter of Arbitration Between:\\n\\nTOWNS...  \n",
       "15           NaN  BOROUGH OF METUCHEN,\\n“Public Employer,”\\n-and...  "
      ]
     },
     "execution_count": 23,
     "metadata": {},
     "output_type": "execute_result"
    }
   ],
   "source": [
    "file_data_mastriani = pd.read_csv(\"file_data_mastriani.csv\")\n",
    "\n",
    "#Select only police union arbitration awards\n",
    "file_data_mastriani = file_data_mastriani[file_data_mastriani[\"Union\"].str.contains(\"PBA|FOP\")]\n",
    "file_data_mastriani = file_data_mastriani[~file_data_mastriani[\"Union\"].str.contains(\"FMBA\")] \n",
    "\n",
    "#Select only top \n",
    "file_data_mastriani = file_data_mastriani.head(10)"
   ]
  },
  {
   "cell_type": "code",
   "execution_count": 45,
   "id": "2463393d",
   "metadata": {},
   "outputs": [
    {
     "data": {
      "text/plain": [
       "'Docket No. IA-2020-007\\n\\nAppearances:\\n\\nFor the Township:\\nBrian K. Wilkie, Esq.\\nCitta, Holzapfel & Zabarsky\\n\\nFor the PBA:\\n\\nChristopher A. Gray, Esq.\\nFrank Cioffi, Esq.\\n\\nSciarra & Catrambone, LLC\\n\\x0cThis Award arises out of an impasse between the Policemen’s Benevolent\\nAssociation, Local 295 [the “PBA” or “Union’) and the Township of Little Egg\\nHarbor [the “Employer” or “Township’]. Their current collective negotiations\\nagreement expired on December 31, 2018, and they have been unable to reach\\na@ new agreement through voluntary, direct negotiations. in accordance with\\nN.J.S.A. 34:13A-16(e)(1), and pursuant to an interest arbitration petition filed by\\nPBA Local 295, | was randomly selected by the New Jersey Public Employment\\nRelations Commission [PERC*] on January 14, 2020 to serve as interest\\narbitrator.\\n\\n| conducted two pre-interest arbitration mediation sessions with the parties\\non February 7 and 26, 2020. Despite the efforts of the parties, they were unable\\nto reach a voluntary agreement during mediation. This required the development\\nof a formal record leading to an Award. Due to the declared State of Emergency\\nin March, the process could not go forward in the timely manner contemplated by\\nstatute and caused the cancellation of hearing dates. After a temporary\\ncessation of the process, the parties agreed to a schedule enabling them to\\nsubmit their presentations through exhibits, financial reports and argument. The\\ndocuments include expert reports on the Township\\'s finances from PBA financial\\nexpert Raphael J. Caprio, Ph.D.. and the Township\\'s financial expert, Chief\\nFinancial Officer Rodney R. Haines. In addition, a report on insurance issues\\n\\nwas provided by PBA health insurance expert Dominick Fanuele. This process\\n\\x0crequired time periods to be set beyond statutory direction in response to the\\nState of Emergency and received PERC approval. The Township and PBA each\\nfiled post-hearing briefs which were transmitted to the parties simultaneously by\\n\\nthe arbitrator upon their receipt.\\n\\nFINAL T OFFER:\\n\\nAs required by statute, each party submitted its last or final offer to each\\nother and the arbitrator. They are as follows:\\n\\nPBA LOCAL 295\\n1. Term of contract\\na. 5 years. January 1, 2019 —- December 31, 2023.\\n2. Salary\\n\\na. 3% per year across the board on each step of the\\nsalary schedules with annual step movement.\\n\\nb. Proposed new salary guides with the merger of the\\ntwo existing salary schedules into one.\\n\\n3. Healthcare\\n\\na. Enroll in State Health Benefits Base Plan Direct 10/20\\nor 20/30.\\n\\nb. Reduce Chapter 78 benefits to tier or year three in\\n2020 and to tier or year two in 2021.\\n\\nCc. Township to pay Medicare Part B for all retirees.\\n\\n4. Incorporate Stipulations into the Award\\n\\x0cTHE TOWNSHIP\\n\\nThe Township offers to maintain the salary step system with step\\nmovement for each contract year and add an additional percentage increase to\\neach step of the salary schedules in the amounts of 0% in 2019 and 1.5% in\\n2020, 2021, 2022 and, 2023. It proposes the same 5 year duration of contract as\\n\\nproposed by the PBA. It rejects all other proposals.\\n\\nBACKGROUND\\n\\nThis impasse arises in Little Egg Harbor Township, an Ocean County\\nmunicipality. It has a total area of 73 square miles, 25 of which is water. The\\nTownship is unique in that it completely surrounds the municipality of Tuckerton.\\nIt also borders several other Ocean County municipalities including Bamegat\\nTownship, Lacey Township and Stafford Township, as well as Galloway\\nTownship, an Atlantic County municipality. The Township has seen rapid growth\\nin its population and had slightly over 20,000 residents in 2010, 4,000 of whom\\nwere new residents added to its population after 2000. That growth has\\ncontinued between 2010 and the present.\\n\\nThe Township is governed by an elected five member Township\\nCommittee who annually appoints a Mayor from among its members. The Police\\nDepartment is active and dedicated to the use of Community Oriented Policing\\n\\nwhich emphasizes the forming of partnerships with the Township\\'s citizens. The\\n\\x0cpolice bargaining unit consists of thirty-nine (39) Sergeants and Officers in total.\\nWithin this total are nine (9) Sergeants and thirty (30) Officers. A layoff in and\\naround 2010 reduced the staff by ten (10) officers. The parties have negotiated\\ntwo (2) salary schedules for rank and file Officers. One is for those hired before\\nJanuary 1, 2015 (Schedule A) and another for Officers hired after January 1,\\n2015 (Schedule B). Seventeen (17) Officers are on Schedule A and thirteen (13)\\nOfficers are on Schedule B. The two schedules have the same values at the\\nPre-Academy steps ($44,804) and the maximum step at twenty (20) years\\n($123,878). Schedule A has twelve (12) steps and Schedule B has fifteen (15)\\nsteps in order to reach maximum step 20. The Sergeants also have two salary\\nschedules. However, the Sergeants’ schedules are not differentiated by date of\\nhire but rather by time in grade (1-3 years) for one schedule and more than three\\n(3) years in grade for the other. The PBA Agreement expired on December 31,\\n2018.\\n\\nIn addition to the PBA Agreement. the Township has collective\\nnegotiations agreements with most of its other non-law enforcement employees.\\nOne is with its Administrative Support Staff which includes Administrative\\nAssistants and Confidential Administrative Assistants and has terms from\\nJanuary 1, 2017 through December 31, 2019. Another is with the United Service\\nWorkers Union, IUJAT, Local 255 which includes Building (Sub Code\\nOfficials/Inspectors), Plumbing (Sub Code Officials/ Inspectors), Fire Protection\\n(Sub Code Officials/Inspectors), Electrical (Sub Code Officials/Inspectors) and\\n\\x0cHousing Inspectors and has terms from January 1, 2021 through December 31,\\n2021.\\' The Township also maintains a collective negotiations agreement with\\nthe Government Workers Union, an employee organization representing Public\\nSafety Telecommunications Operators. This agreement has effective dates from\\nJanuary 1, 2016 through December 31, 2019. The record does not reflect that\\nthe Township has reached any new agreements with any employee\\norganizations that extend beyond the expiration dates noted above. Each party\\nmakes reference to these “internal settlements” in support of their respective\\npositions.\\n\\nAll Township employees represented in the above bargaining units,\\nincluding the PBA unit, receive medical and hospitalization coverage, prescription\\ndrug coverage, dental coverage and vision coverage for full-time employees,\\ntheir spouses and the employee\\'s eligible dependents. The current health\\ninsurance plan is a private plan through carrier Horizon Direct Access 8. It is a\\ncostly ($36,548 for family coverage) but comprehensive plan with attractive\\nbenefit levels including, but not limited to, a $400 per person and $1,000 per\\nfamily out of pocket maximum with 100% reimbursement after the limit is\\nreached. All bargaining unit employees in all of the units are subject to health\\ncare contribution levels at the highest Year 4 contribution levels pursuant to\\nChapter 78, P.L. 2011. This statutorily mandated health care contribution\\nscheme required all Township employees by law, and without agreement through\\n\\n\\' This Agreement embodies the terms of an October 3. 2017 MOA which commenced on January\\n1, 2017 and incorporated its terms into the January 1. 2021 Agreement.\\n\\n6\\n\\x0cnegotiations, to make contributions based on the employee\\'s salary and type of\\ncoverage. The amount of individual contribution is linked to four tiers or years\\nphased in over a four year period that calculates the percentage of premiums\\neach employee must pay based on a sliding increased scale tied to an individual\\nemployee\\'s salary.2 For example, Tier or Year 4, the highest tier at 35% of\\npremium cost, requires eleven officers in the PBA unit who eam more than\\n$110,000 to pay $12,829.61 annually in contributions towards the cost of family\\ncoverage. The lowest current contribution amount for a PBA member is for an\\nemployee who eams between $55,000.00 and $59,999.99 and opts for single\\ncoverage at 23% of premium cost with an annual cost of $3,319.29. Because the\\nPBA salary schedules generally contain higher salary levels than employees in\\nthe other bargaining units, most of its members are at higher dollar levels which\\ncause greater contribution amounts due to employees having to pay higher\\npercentages toward premium costs based on individual salary. The PBA has\\nplaced the issue of health insurance carrier selection and percentages of\\ncontributions towards premium costs at issue. This latter issue is present due to\\nthe fact that the statutory mandatory Chapter 78 requirements conceming\\ncontribution levels, after the four year phase-in has been implemented, as here,\\nare subject to mandatory negotiations because after an Agreement that\\nexperienced full implementation has expired. Chapter 78 allows for mandatory\\nnegotiations over contribution levels under the circumstances present here when\\npursuing a new agreement, so long as those phase-ins are complete and the\\n\\n? Contributions are not required nor is there coverage if an employee meets the standards that\\nallow for waiver of coverage.\\n\\x0ccollective negotiations has expired. The parties’ positions on these issues are\\ndescribed and analyzed below. The salary issue is also at impasse and will be\\nfully described and analyzed below. The health insurance and salary issues are\\nboth economic in nature and one at the center of the record evidence and\\n\\nargument.\\n\\nDISCUSSION\\n\\nAs indicated, the disputed issues at impasse mainly concern salary and\\nhealth insurance. The salary issue concems what shall the amount, if any, of\\nacross the board increases be for each year of the stipulated contract duration of\\nfive (5) years, January 1, 2019 through December 31, 2023. The health\\ninsurance impasse centers on who the health insurance carrier and plan covering\\nunit employees should be going forward and what the previously statutorily\\nmandated, but now negotiable, level in the amounts of contributions employees\\n\\nmake towards health insurance premiums should be.\\n\\n| am required to make a reasonable determination of the salary and health\\ninsurance issues described above when rendering an award on these proposals.\\nThe submissions of both parties have been thoroughly reviewed, considered and\\nwill be concisely summarized and analyzed below followed by an Award on the\\ndisputed issues. In my evaluation of the proposals, | am required to apply the\\nstatutory criteria set forth in N.J.S.A. 34:13A-16(g). They are as follows:\\n\\x0cThe interests and welfare of the public. Among the items the\\narbitrator or panel of arbitrators shall assess when\\nconsidering this factor are the limitations imposed upon the\\nemployer by (P.L. 1976, c. 68 (C. 40A:4-45.1 et seq.).\\n\\nComparison of the wages, salaries, hours, and conditions of\\nemployment of the employees involved in the arbitration\\nproceedings with the wages, hours, and conditions of\\nemployment of other employees performing the same or\\nsimilar services and with other employees generally:\\n\\n(a) In private employment in general: provided,\\nhowever, each party shall have the right to\\nsubmit additional evidence for the arbitrator\\'s\\nconsideration.\\n\\n(b) In public employment in general: provided,\\nhowever, each party shall have the right to\\nsubmit additional evidence for the arbitrator\\'s\\nconsideration.\\n\\n(c) In public employment in the same or similar\\ncomparable jurisdictions, as determined in\\naccordance with section 5 of P.L. 1995. C. 425\\n(C.34:13A-16.2) provided, however, each party\\nshall have the right to submit additional\\nevidence concerning the comparability of\\njurisdictions for the arbitrator\\'s consideration.\\n\\nThe overall compensation presently received by the\\nemployees, inclusive of direct wages. salary, vacations,\\nholidays, excused leaves, insurance and pensions, medical\\nand hospitalization benefits, and all other economic benefits\\nreceived.\\n\\nStipulations of the parties.\\n\\nThe lawful authority of the employer. Among the items the\\narbitrator or panel of arbitrators shall assess when\\nconsidering this factor are the limitations imposed upon the\\nemployer by the P.L. 1976 c. 68 (C.40A:4-45 et seq.).\\n\\nThe financial impact on the governing unit, its residents and\\ntaxpayers. When considering this factor in a dispute in\\nwhich the public employer is a county or a municipality, the\\narbitrator or panel! of arbitrators shall take into account to the\\n\\x0c(7)\\n(8)\\n\\n(9)\\n\\nThe arbitrator must make a reasonable determination of the issues,\\n\\nextent that evidence is introduced, how the award will affect\\nthe municipal or county purposes element, as the case may\\nbe, of the local property tax; a comparison of the percentage\\nof the municipal purposes element, or in the case of a\\ncounty, the county purposes element, required to fund the\\nemployees’ contract in the preceding local budget year with\\nthat required under the award for the current local budget\\nyear; the impact of the award for each income sector of the\\nproperty taxpayers on the local unit; the impact of the award\\non the ability of the governing body to (a) maintain existing\\nlocal programs and services, (b) expand existing local\\nprograms and services for which public moneys have been\\ndesignated by the goveming body in a proposed local\\nbudget. or (c) initiate any new programs and services for\\nwhich public moneys have been designated by the\\ngoverning body in its proposed local budget.\\n\\nThe cost of living.\\n\\nThe continuity and stability of employment including seniority\\nrights and such other factors not confined to the foregoing\\nwhich are ordinarily or traditionally considered in the\\ndetermination of wages, hours and conditions of employment\\nthrough collective negotiations and collective bargaining\\nbetween the parties in the public service and in private\\nemployment.\\n\\nStatutory restrictions imposed on the employer. Among the\\nitems the arbitrator or panel of arbitrators shall assess when\\nconsidering this factor are the limitations imposed upon the\\nemployer by section 10 of P.L. 2007, c. 62 (C.40A:4-45.45).\\n\\nreasoned explanation for the award and determine which statutory factors are\\nrelevant and to be given due weight and which factors, if any, are deemed\\nirrelevant. The arbitrator has conventional arbitration authority that does not limit\\nthe award to a selection of either party\\'s last offer either on a package or issue by\\nissue basis. The criteria also authorizes the arbitrator to consider other such\\n\\nfactors not confined to those specifically stated which are ordinarily or\\n\\n10\\n\\x0ctraditionally considered in the determination of wages, hours and conditions of\\nemployment. [N.J.S.A. 34:13A-16(g}8)]. This requires the party seeking to\\nmodify existing terms and conditions of employment to establish a valid basis for\\nchange by providing sufficient evidentiary support consistent with the criteria or to\\nshow that extrinsic factors to be considered that are not stated in the statute must\\nprevail based on credible evidence. No proposed issue can be presumed to be\\nvalid in the absence of justification supported by credible evidence. | also note\\nthat because economic issues normally implicate financial impact on the\\ngoveming body and the public or statutory spending and taxing limitations, they\\nmust be considered not only individually but in their totality as well.\\n\\nA question arose concerning whether the parties had entered stipulations\\non certain issues pursuant to N.J.S.A. 34:13A-16(g}(4). That criterion allows for\\nthe incorporation of the stipulated agreements to be incorporated into the Award.\\nThe PBA prepared stipulations to be incorporated into the terms of the award\\nbased on its view of the status of certain issues that it alleged resulted from prior\\ndialogue between the PBA and Township officials. They are as follows:\\n\\nSTIPULATIONS\\nArticle V(a) — Holidays — All holidays, just as generally accepted\\n\\nwith Christmas and New Year\\'s Day, should be recognized on their\\nactual date for purposes of overtime for employees bound by the\\nRank and File Collective Bargaining Agreement (CBA), unless\\nspecifically detailed as “observed\" in the CBA.\\n\\nVib) — H - Due to the nature of the patrol schedule\\n\\n(12 hours shifts - GAM to 6PM and 6PM to 6AM), it is the accepted\\npast and present practice of the LEH PD that a holiday begins at\\n\\n11\\n\\x0c6:00AM on the date of a holiday and continues until 5:59AM on the\\nfollowing day for the purpose of an employee\\'s entitlement to\\novertime pay. K-9 officers are considered part of patrols for\\npurposes of holiday pay during their regularly scheduled work\\nhours. For employees not on said patrol schedule (SRO\\'s,\\nDetectives, etc. ... ), the holiday begins at 12:00AM to 11:59PM for\\npurposes of holiday pay.\\n\\nArticle X(d) — Work Week, Overtime - In the event an officer\\ncompleting a tour of duty, is called out for K-9 duty, the officer\\nshould receive a four hour call-out and it should not be considered\\na continuation of their recently completed tour of duty.\\n\\nXV(a)_ - insu and Welfare -— Newly\\nappointed officers will receive their health benefits immediately\\nand will not be subjected to the Township\\'s 90-day waiting period.\\n\\nArticle Vil(b)(2) — Vacation —- Class II Police Officers who are then\\nlater hired in the capacity of a regular police will receive credit for\\nthe years served continuously with the Township when calculating\\nvacation leave entitlement in subparagraph (A)(2) above.\\n\\nMeal Allowance - The PBA is proposing that meal allowances are\\nadjusted from $12 to $50 and 50$§ to $75.\\n\\nArticle XIV (D) — K-9- increase from 2 hours to 4 hours.\\n\\nAfter discussion with the parties after close of record, it appears that the\\n\\nabove issues had been the subjects of various types of discussion that may or\\nmay not have included grievance resolutions well prior to the arbitration. The\\n\\nPBA submitted an exhibit summarizing its belief as to their resolutions.\\n\\nTownship does not share the PBA’s view that adjustments to grievances and/or\\ncomplaints had been made that can be considered stipulations. It became clear\\nto me that if any understandings occurred, and even if a debate over grievance\\nresolution might ensue in any future proceeding on contract interpretation, the\\nissues raised by the PBA in this proceeding do not rise to the level of formal\\n\\n12\\n\\x0cstipulation as required by N.J.S.A. 34:13A-16(g}(4). For this reason, and without\\nprejudice to either party\\'s position on these issues, the proposed stipulations will\\nnot be incorporated into the Award. The PBA’s ability to grieve over any of the\\nissues as a matter of contract interpretation or prior grievance resolution remains\\n\\nunaffected by this decision.\\n\\nI next proceed to summarize, evaluate and decide the issues at impasse.\\n\\nARTICLE XV — INSURANCE, HEALTH AND WELFARE\\n\\nAs indicated, Article XV identifies, among other things, the scope of\\nmedical and hospitalization coverage, standards for change in health insurance\\ncarrier, retiree health benefits and survivor health insurance benefits. Article XV\\ndoes not specifically identify the carrier. However, Article XV, Section A(2)\\ngrants the Township the right to make a change provided that “there is no\\nreduction in the level of benefits that are in effect.” As previously noted, the PBA\\nseeks to change the health care insurance carrier and plan and, in addition, to\\nreduce the scheme for employee contributions currently set in the expired\\nagreement by the terms of Chapter 78 P.L. 2011. The Township opposes each\\nproposed change and seeks to maintain the status quo on each PBA proposal.\\n\\nThe PBA contends that its proposals on health insurance are both based\\non providing savings to PBA members by reducing employee contributions\\nresulting from a switch to a less costly plan, reducing employee contributions by\\n\\n13\\n\\x0clessening the percentage of employee contributions while simultaneously\\nreducing the Township\\'s costs for providing medical and hospitalization\\ncoverage. The PBA argues that the proposals would provide the Township with\\ngreater financial flexibility to fund its salary proposal. The PBA relies upon the\\nreports of its health insurance expert Dominick Fanuele who presented detailed\\ninformation on the relative costs between the PBA’s proposed NJSHBP Direct\\n10//20 and 20/30 Plans with the existing Horizon Direct Access 8 Plan as well as\\nthe individual and collective employee savings that would be derived from lower\\nemployee contributions caused by rolling back Year 4 levels to Tier or Year 3 in\\n2020 and to Year 2 in 2021. He also calculated Township savings that would\\nresult from the switch in plans and a side by side comparison of the benefit levels\\nin each plan. On this latter point, the PBA does not contest the Township\\'s\\nassertion that the existing plan, while more costly, has higher benefit levels.\\nHowever, the PBA contends that the price difference between the plans is\\n“exorbitant” and cannot be justified by the higher level of benefits in the existing\\nplan.\\n\\n| have reviewed Mr. Fanuel\\'s analysis and charts. The PBA arguments\\nseeking support for its proposals follow the content of the reports. Drawing upon\\nthe arguments presented in the PBA’s post-hearing brief, | set them forth in\\npertinent part:\\n\\nSpecifically, if the Township were to switch from their current Direct\\n\\nAccess plan to the SHBP Direct 10 plan, the switch would result in\\nan annual savings of $67,172.84 to the Township. Additionally, if\\n\\n14\\n\\x0cthe Township were to switch to the SHBP Direct 20/30 plan as the\\nPBA has offered to do, the Township would save over $131,979.00\\nannually in terms of health care contributions. The savings to the\\nPBA would be $46,925.80 and $74,385 respectively. The\\ntownship\\'s refusal to consider cost savings of over $200,000 shows\\nthat they are not concemed over the Township finances.\\n[Emphasis in original).\\n\\nIn the offer proposed by the Township, the Township failed to take\\ninto account the savings the Township would net if they switched to\\nthe more cost-effective State Health Benefits. The Township has\\nfailed to provide a reason for not wanting to make this cost-saving\\nswitch. In fact, the collective bargaining agreement between Lacey\\nTownship and PBA Local 238 which the Township provided as a\\ncomparable, illustrates a Township\\'s willingness to negotiate health\\ncare contributions for the benefit of both the PBA and Township. In\\nthat CBA, the Township agreed to roll back to tier 3 contributions\\nunder Chapter 78.\\n\\nIn this matter the Township has decided to remain silent without\\neven a discussion on health care. However, the Township did\\nconcede that they would switch to a State Health Benefits Plan if\\nthe switch was universally accepted throughout the Township. This\\npurported offer has yet to come to fruition. The Township\\'s failure\\nto switch to a more cost-effective health plan must be taking into\\nconsideration when reviewing the offers presented by both the PBA\\nand the Township.\\n\\nAny final offers that were submitted by the Township and the PBA\\nwere required to set forth exactly what they were looking for. The\\nfinal offer of the PBA seeks to enroll the PBA in Direct 20/30 of the\\nState Health Benefits Plan. Additionally, the PBA sought to reduce\\nChapter 78 benefits to Year 3 in 2020 and Year 2 in 2021. Neither\\nthe Township\\'s response to the PBA’s petition nor in their final offer\\nto the arbitrator did the Township discuss the Township’s current\\nhealth benefit plan. Currently LEH pays $36,648 for family\\ncoverage for the Horizon Direct Access 8 plan. The SHBP Direct\\n20/30 rate is $28,224 for family coverage. The PBA is trying to\\nreduce costs approximately $8,400 or 23% a family. (See Exhibit\\n4).\\n\\nTaking a look into the costs of the healthcare Direct Access 8 and\\nthe SHBP Direct 20/30 shows that changing to Direct 20/30 and\\ncutting the Chapter 78 contributions in half would cost LEH less\\nmoney than they currently spend on healthcare.\\n\\n15\\n\\x0cCurrent Cost SHB? Con\\nCurrent Annual Premium $ 062,116.72 $ cima\\nLote Ch. 78 Contributions $ 208,540.30 $ 16181\\nNet cost to LEHT (net of Ch 78 Contrid) $ 992,572.42 $ nse\\nIf the Arbitrator awards a change to the SHBP Direct 20/30 plan,\\n\\nthe township would pay $460,592.89 instead of $592,572.42 that\\nthey currently pay.\\n\\nIf you cut the Chapter 78 contributions in half (Tier II) for the Direct\\n20/30 plan and add half of it to the LEH premium, LEH would spend\\n$558,172.44 for the Direct 20/30 plan. This would still save LEH\\n$34,339.97 per year. Over the remaining life of this contract (3.5\\nyears) LEH would save $120,189.90. Ordering a change to the\\nbase healthcare plan to the Direct 20/30 and reducing Chapter 78\\ncontributions is beneficial to LEH, PBA, and the tax-payers of LEH.\\nThe PBA should get the benefit form the plan switch and premium\\nreductions and a reduction in Chapter 78 based upon their\\nwillingness to control the premium costs. LEH is more than satisfied\\nwith paying almost $600,000 for the healthcare premium so the\\nmajority of the plan savings should be returned to the PBA in\\nChapter 78 reductions.\\n\\nThe PBA appears to acknowledge that prior interest arbitration awards\\nhave denied proposals granting Chapter 78 “relief,” defined as reducing Chapter\\n78 contribution levels, but it seeks to distinguish the facts in this case from those\\nin others (Hopewell, Bedminster and West Windsor) where PBA proposals to\\n\\nreduce Chapter 78 contributions were rejected. It submits:\\n\\nIn prior interest arbitrations, no party was in the position of seeking\\na lower cost SHBP plan where the employer refused to make the\\nplan change. While arbitrators have been reluctant to reduce\\nChapter 78 contributions, (See Hopewell, Bedminster, and West\\nWindsor) this case begs to set the precedent. No prior interest\\narbitration had the union begging to join the SHBP and change to\\nthe Direct 20/30 plan. LEH is refusing to accept over $200,000 in\\nyearly savings for the PBA and LEH. ...\\n\\nChanging Chapter 78 contribution levels is spreading across the\\n\\nstate. Many departments have negotiated reductions in Chapter 78\\ncontributions in exchange for healthcare plan changes. (See\\n\\n16\\n\\x0cPleasantville Police, Hamilton Police (Atlantic County), Salem\\n\\nCorrections, South Brunswick Police, Sayerville, Plainfield, Edison,\\n\\nand North Brunswick. ... Health benefit changes that come with\\n\\nsubstantial cost reductions weight in favor of the PBA on all\\n\\nN.J.S.A. 34:13A-16(g) criteria. PBA 295 should not be forced to\\n\\npay for insurance that is not remotely cost effective. Therefore the\\n\\nPBA seeks a reduction of Chapter 78 contributions to Tier Ill in\\n\\n2020 and Tier I! in 2021 as well as an ordered switch to the SHBP\\n\\nDirect 20/30 plan.\\n\\nThe Township seeks to maintain the status quo and urges the rejection of\\nthe PBA’s health insurance proposals to switch the health insurance carrier and\\nplan and to change the percentage contribution levels. It submits that reducing\\ncontribution levels will cause future increases in its costs of providing medical\\nand hospitalization coverage and place undue financial burdens on the Township\\nthereby straining its budget. It notes that no other bargaining unit in Little Egg\\nHarbor has negotiated a reduction in Chapter 78 Year 4 levels. It asserts that the\\nprivate insurance plan it currently provides is a “significant upgrade’ over the\\nSHBP plan proposed by the PBA which it asserts, if implemented, would reduce\\nexisting benefit levels its plan offers to Township employees. The Township also\\nemphasizes that the current terms of law would not allow it to implement any\\nSHBP plan only for employees in the PBA unit and any condition of\\nimplementation, which is beyond its control, would require all other bargaining\\nunits and contract employees to consent to the switch the PBA proposes. It\\nnotes that no consent has been sought or received from any bargaining unit to\\n\\nchange the existing health insurance plan.\\n\\n17\\n\\x0cThe Township\\'s objection to the financial impact of decreasing employee\\ncontributions to health insurance premiums is set forth in its post-hearing\\nargument, the theme of which it also applies to the salary issue. In pertinent part,\\n\\nit states:\\n\\nAs referenced above, LEHT finds itself in a financial vise. As\\nreferenced in Ex. A, the Township previously appeared to be\\nrunning at a surplus due to the Federal government staying\\nrepayment of emergency aid loans received by LEHT for Hurricane\\nSandy. This forbearance has since been lifted, the majority of the\\nloan will not be forgiven, and repayment will have to be completed\\nby 2023. Ex. A. This has essentially pushed the township into a\\nyearly deficit, and has necessitated, thus far, a 6.9 cent tax raise in\\n2019, with additional hikes being a matter of consideration. It\\'s\\nworth noting that the 2019 Tax Rate was amongst the highest in the\\ncounties, and the Township still required one-time grants and\\nrevenue sources in order to make ends meet.\\n\\nAdditional contributing factors, as noted in Ex. A, include prior\\nmismanagement by former Administration employees, substantial\\ntax appeals, and decreased revenues and surpluses. Exhibit E\\nillustrates, in a digestible fashion, the current financial problems. In\\nparticular, the final row, listed as “Net Ending Fund Balance,”\\nshows a small deficit for the year 2018, and a significant deficit in\\nexcess of two million dollars for year 2019, which is approximately\\nten percent of the Township\\'s operating budget. These financial\\nshortfalls persist into 2020, and will likely persist until the FEMA\\nloan has been addressed.\\n\\nPlainly stated and based upon the current financial posture, any\\nincrease presents a hardship to the Citizens of Little Egg Harbor,\\nincluding the Township\\'s Final Offer. Moreover, the state of the\\nlarger economy has weakened the Township\\'s income, specifically\\nthe global Covid-19 pandemic and the associated recession. The\\nextravagant proposal submitted by the PBA would necessitate\\ndrastic financial action in order to even approach compliance,\\nshould the Arbitrator enter a decision favorable to the Union.\\n\\n18\\n\\x0cAward\\n\\n| first address the PBA’s proposal to change the health insurance plan\\nfrom the Horizon District Access 8 Plan to either the NJSHBP Direct 10/20 Plan\\nor its 20/30 Plan. This proposal is intended to reduce premium costs thereby\\nproviding savings to the Township and savings to unit members through reduced\\ncontributions towards premiums. While the Fanuele Report clearty demonstrates\\nthat savings would flow from making this change, this evidence, standing alone,\\ncannot support the awarding of this proposal. The proposal may conflict with\\nPERC precedent and health insurance statute. | do not rest its disposition here\\non questions of law. Even assuming, for the sake of argument, that this issue\\ncan lawfully proceed to arbitration, | do not find sufficient evidence to award the\\nproposal. Here, the Agreements with the other bargaining units are subject to\\neither the Horizon Direct Access 8 Plan or to a plan decided by the Township that\\ncontains benefit levels that meet the high levels of contractual standards that\\nwould allow for change. The record reflects that the benefit levels in the\\nNJSHBP 20/30 Plan would not meet the contractual standards to allow the\\nTownship to unilaterally change the carrier and plan for its other units and would\\nrequire its other employee organizations to negotiate and agree upon the change\\nthat the PBA seeks to be awarded in this proceeding. | do not find that the\\ninterests and welfare of the public would be served by the Township having to\\nmeet a burden to administer insurance plans that have differing carriers and\\nbenefit levels. Accordingly. | do not award the PBA’s proposal to change the\\n\\nhealth insurance carrier and plan. While doing so, | note that this does not\\n\\n19\\n\\x0cpreclude the Township from voluntarily engaging in discussions, jointly or\\nseparately, with the PBA and/or each of its other bargaining units to pursue\\nuniform changes to the health insurance plans and benefit levels.\\n\\n| next tum to the PBA’s proposal to reduce Chapter 78 employee\\ncontribution levels from the Tier or Year 4 levels to Tier or Year 3 levels in 2020\\nand to Tier or Year 2 levels in 2021. The Township urges rejection of this\\n\\nproposal.\\n\\nIn order to provide proper context to the issue of Chapter 78 employee\\ncontributions, | set forth below the statutory scheme that sets the contribution\\nrates that unit members are now subject to as the status quo. As noted, unit\\nemployees are now subject to Year or Tier 4 levels. The charges provide the\\nlinkage between salary and percentages of employee contribution toward\\npremium cost. As evident from the charts, each employee\\'s salary range\\ndictates the percentage of premium cost each must pay depending on whether\\nthe coverage and its cost is Single, Family or Member/Spouse/Partner or\\nParent/Child:\\n\\nHEALTH BENEFITS PREMIUM CONTRIBUTION RATES\\nFOR SINGLE COVERAGE\\n\\nSalary Range Year 2 Year 4 —\\nLess than 20,000 | 2.25% 4.50% |\\n20,000-24,999.99 | 2.75% §.50%\\n25,000-29,999.99 | 3.75% | 5.63% | 7.50% |\\n30,000-34,999.99 | 5.00% | 7.50% | 10.00% |\\n\\n_ 35,000-39,999.99 | 5.50% | 8.25% | 11.00%\\n\\n \\n\\n20\\n\\x0c40,000-44,999.99 | 6.00% | 9.00% | 12.00%\\n\\n7.00% | 10.50% | 14.00%\\n10.00% | 15.00% | 20.00% _\\n55,000-59,999.99 | 11.50% | 17.25% | 23.00% |\\n60,000-64,999.99 | 13.50% | 20.25% | 27.00% |\\n\\n14.50% | 21.75% | 29.00%\\n16.00% | 24.00% | 32.00% _\\n75,000-79,999.99 | 16.50% | 24.75% | 33.00%\\n\\n17.00% | 25.50% | 34.00%\\n| 17.50% | 26.25% | 35.00%\\n\\n  \\n     \\n   \\n        \\n    \\n\\n  \\n\\n95,000 and over\\n\\nHEALTH BENEFITS PREMIUM CONTRIBUTION RATES\\nFOR FAMILY COVERAGE\\nSalary Range Year2 | Year3 | Year4 |\\nLess than 25,000 1.50% | 2.25% .\\n25,000-29,999.99 | 2.00% | 3.00%\\n30,000-34,999.99 . / .\\n35,000-39,999.99\\n40,000-44,999.99\\n45,000-49,999.99\\n\\n6.00% | 9.00%\\n7.00% | 10.50%\\n8.50% | 12.75%\\n\\n65,000-69,999.99\\n70,000-74,999.99\\n75,000-79,999.99\\n80,000-84,999.99\\n\\n9.50% | 14.25%\\n11.00% | 16.50%\\n11.50% | 17.25%\\n12.00% | 18.00%\\n\\n85,000-99,999.99\\n90,000-94,999.00\\n95,000-99,999.00\\n\\n13.00% | 19.50%\\n14.00% | 21.00%\\n14.50% | 21.75%\\n\\n110,000 and over 17.50% 26.25% 35.00%\\n\\n \\n\\nHEALTH BENEFITS PREMIUM CONTRIBUTION RATES\\nMEMBER/SPOUSE/PARTNER OR PARENT/CHILD COVERAGE\\n\\nSalary Range | Year2 | Year3 | Year4—\\n\\nLess than 25,000 | 1.75% | 2.63% | 3.50% _\\n25,000-29,999.99 | 2.25% | 3.38%| 4.50% |\\n30,000-34,999.99 |_3.00% | 4.50% | 6.00%\\n| 35,000-39,999.99 | 3.50% | 5.25% |_7.00%\\n40,000-44,999.99 | 4.00% | 6.00% | 8.00% -\\n_45,000-49,999.99 | 5.00% 7.50% 10.00% _\\n\\n   \\n  \\n \\n\\n \\n\\n21\\n\\x0c50,000-54,999.99 | 7.50% | 11.25% | 15.00% |\\n55,000-59,999.99 | 8.50% | 12.75% | 17.00%\\n21.00% |\\n23.00%\\n26.00% |\\n27.00%\\n80,000-84,999.99 | 14.00% | 21.00% | 28.00% _\\n85,000-99,999.99 | 15.00% | 22.50% | 30.00% |\\n100,000 and over | 17.50% 26.25% 35.00% |\\n\\n \\n\\nThe PBA\\'s proposal to reduce employee percentage rates and the actual\\namount of contributions made must be viewed as an economic rather than a\\nphilosophical issue. Contributions are required by law. They are currently\\naccounted for as revenue in the Township\\'s budget. While negotiations for\\nrevisions in levels of contributions are now mandated, on demand, Chapter 78\\nclearly states that the contribution levels in Year 4 of the phase-in constitute the\\nstatus quo for the purpose of negotiating change. Thus, any proposed change\\nfor more or for less of a contribution would, if accepted or awarded, alter the\\nstatus quo when negotiating change. It is noted that even if the status quo is\\nmaintained, contribution dollars are subject to annual change without negotiation\\nbecause, as provided by Chapter 78, required contributions for individual\\nemployees are expressed in percentage of premium cost depending on the\\nrange for an employee’s salary. For example, an employee whose salary\\nrequires at 35% contribution would be obligated for any increase or decrease in\\npremium cost increase by 35% while the employer\\'s share of increase or\\ndecrease would be by 65%.\\n\\x0cThe economic nature of the issue requires consideration of the financial\\nimpact of the PBA’s proposal, evidence of internal and external comparability and\\nthe interest and welfare of the public which, by its very nature, tends to implicate\\nand embrace all of the statutory criteria. The PBA’s proposals to move its\\nmembers from Year 4 levels to Year 3 levels in 2020 and then to Year 2 levels in\\n2021 would eventually halve the amount of employee contributions and increase\\nthe Township\\'s cost by assuming the other half that the employee no longer\\n\\npays.\\n\\nThe parties each acknowledge the factual impact of the changes in\\nChapter 78 contribution rates. Currently, based on 2018 rates of pay. forty-four\\n(44) unit employees, twelve (12) of whom have waived coverage for which there\\nare no premium costs, the amount of employee contributions under Chapter 78\\nYear 4 is $269,544.30 annually and $22,462 on a monthly basis. The $269,544\\nin contributions is received towards the annual premiums of $862,116 and\\nmonthly premiums of $71,843. Under the PBA proposal to move from Year 4 to\\nYear 3 contribution rates in 2020, the annual contributions collectively would be\\nreduced by approximately 25% to $201,750, an amount of approximately\\n$68,000.\\n\\nThe PBA proposal must be viewed not only as an individual issue but also\\n\\nin the context of overall impact. | have done so. In respect to the statutory\\n\\ncriteria, the PBA has established that some weight must be given to comparisons\\n\\n23\\n\\x0cwith employees performing the same or similar services in the jurisdictions of\\nBarnegat, Lacey and Stafford Township, all of whom have negotiated changes in\\nChapter 78 contribution levels from Year 4 back to Year 3. | do not find these\\ncomparisons to be dispositive but that they are entitled to weight given the salary\\naward that follows which in 2019 does not include an across the board increase.\\n| find support for a similar change proposed by the PBA to the Year 3 level but\\nwith an implementation date of January 1, 2023 instead of the PBA’\\'s proposed\\ndate of January 1, 2020. | do not award its proposal for a similar amount of\\nreduction that would reduce contributions from Year 3 to Year 2 rates in 2021 or\\nany date thereafter.\\n\\nThe amount of cost reduction to the employees results in an identical\\nincrease in costs to the Township. Based on reported aggregate salary costs of\\n$4,028,455, the increased cost to the Township as a result of the reduction to\\nYear 3 contribution levels calculates to approximately 1.75% of base salaries.\\nPut another way, it impacts on the Township in the same manner as a salary\\nincrease to employees but without incurring roll up costs such as overtime and\\npension contributions, which base salary increases would require? | have also\\nconsidered this issue and this award in concert with the disposition of the salary\\nissue for 2019 which renders the award on contributions more reasonable due to\\nthe lower cost impacts of an across the board increase in 2019 that also would\\nflow through the remainder of the Agreement. There are financial impacts\\n\\n> The precise costs and percentage may fluctuate because these figures are based on 2018 rates\\nof pay but the fluctuations are minimal in nature and do not materially impact on this analysis.\\n\\n24\\n\\x0cstemming from reduced employee contributions, as well as salary and | find, for\\nthe reasons set forth in the salary award that follows, that an award of the\\nTownship\\'s salary proposal in year 2019 to not provide an across the board\\nincrease due to its unique financial posture in that year is a strong consideration\\ntowards awarding the PBA’s proposal as a reasonable offset. Accordingly, |\\naward a reduction in Chapter 78 contribution rates from Year 4 to Year 3\\neffective January 1, 2023 and deny the PBA’s proposal for a further reduction to\\n\\nYear 2 rates.\\n\\nARTICLE XIV — RATES OF PAY\\n\\nAs previously stated, the parties have negotiated two (2) salary schedules\\nfor Officers. One is for those hired before January 1, 2015 (Schedule A) and\\nanother is for Officers hired after January 1, 2015 (Schedule B). Seventeen (17)\\nOfficers are on Schedule A and thirteen (13) are on Schedule B. The two\\nschedules have the same values at the Pre-Academy steps ($44,804) and the\\nmaximum step at twenty (20) years ($123,878). Schedule A has twelve (12)\\nsteps and Schedule B has fifteen (15) steps in order to reach maximum step 20\\nbecause certain steps require more than one year of service in order to advance\\nto the next step. The Sergeants also have two salary schedules. However, the\\nschedules are not differentiated by date of hire but rather by time in grade (1-3\\n\\nyears), or by having more than three (3) years in grade.\\n\\n25\\n\\x0cThe existing rates of pay at the conclusion of the Agreement on December\\n31, 2018 are as follows. The parties’ proposed revisions and costs are to be\\ncalculated off of these schedules:\\n\\nSCHEDULE A -— SALARY GUIDE\\nFull-Time Swom Officer Hired Before 1/1/2015\\n\\n[—__Beginvear [| aoe S\\na <X-\\n3 | 75,709\\n[a SSTSCSCSC~d S742 SY\\n[SS SSF. 202\\n6 | 109,688\\n3 STTCTCSCd —SSS~s 83\\nit | 113,990\\n1/7 Sid SS—s. 14\\n[2. Sid S—28\\' 878\\n\\nSCHEDULE B - SALARY GUIDE\\nFull-Time Swom Officer Hired After 1/1/2015\\n\\n \\n\\x0cSergeants in Grade 1-3 Years\\n\\n132,486\\n135,139\\n\\nBegin Year , 2018\\nbegin 5 126,142\\nbegin 8 128,616\\n\\n131,089\\n133,562\\n136,036\\n138,518\\n\\n \\n\\n   \\n\\nThe Township has proposed to maintain the 2018 salary schedule through\\nthe first contract year of 2019 without an across the board increase but advances\\neligible employees through their normal step movement. It calculates the cost of\\nstep movement alone for 2019 at 2.87%. Then. for each contract year thereafter,\\n2020 through 2023, it proposes annual increases of 1.5% at each step of the\\nsalary schedule while continuing to advance eligible employees annually through\\nnormal step movement. Its proposed salary guides would reflect the following\\nrevisions from the 2018 schedules:\\n\\nTownship\\nOfficers Hired before 1/1/15 - Schedule A\\n\\n0.0% 1.5% 1.5% 1.5% 1.5%\\n\\n \\n\\n2019 2020 2021 2022 2023\\n\\nAcademy 44,804 45,476 46,158 46,851 47,553\\nAcademy 56,096 56,937 57,792 58,658 59,538\\n2 65,958 66,947 67,952 68,971 70,005\\n\\n27\\n\\x0c  \\n \\n\\n  \\n\\n101,015 | 102,530\\n114,698 116,419\\n116,947\\n\\n    \\n   \\n   \\n\\n    \\n\\n   \\n \\n\\n   \\n \\n\\n116,141 117,883 119,651\\n118,290 120,064 121,865 123,693\\n123,878 125,736 127,622 129,537\\n\\n   \\n      \\n\\nProposed Salary Guide - Schedule B\\nOfficers Hired after 1/1/15\\n\\n80,440 : : .\\n\\n86,316 87,610 88,924 90,258\\n92,191 93,574 94,978 96,403\\n98,067 99,538 101,031 102,547\\n\\n111,465\\n117,435\\n\\n \\n\\n    \\n\\n   \\n\\n \\n   \\n\\n \\n  \\n\\n     \\n\\n122.851 | 124,604 | 126,564 | 128,463\\n125,260 | 127.139 | 129.046 | 130,982\\n127.669 | 129584 | 131528 | 133,501\\n\\n      \\n      \\n \\n  \\n \\n\\n \\n\\n    \\n \\n\\n   \\n \\n\\n       \\n\\nbegin 17 136,490 138,538 140,616\\nbegin 20 135,139 139,224 141,312 143,432\\n\\n28\\n\\x0cSergeants in Grade more than 3 years\\n\\n        \\n\\n  \\n\\n         \\n\\n \\n\\n133.562 | 135.565 | 137.509 | 139.663\\n136,036 | 138.077 | 140,148 | 142,250\\nnegin20 | 138518 | 140596 | 142,705 | 144,845\\n\\n \\n \\n \\n\\n  \\n \\n\\n147,018\\n\\n       \\n\\n \\n\\nThe PBA\\'s salary offer would advance eligible employees annually\\nthrough normal step movement and increase each step of the salary schedule by\\nan across the board 3% for each contract year, 2019 through 2023. The\\n\\nproposal reads as follows:\\n\\nPBA\\nOfficers Hired Before 1/1/15 - Schedule A\\n\\n   \\n\\n      \\n\\n       \\n \\n\\n  \\n\\n         \\n\\n67,937 69,975 72,074 74,236 76,463\\n77,980 80,320 82,729 85,211 87,767\\n90,046 92,747 95,529 98,395 | 101,347\\n[99,500 | 102,485 | 105,560 | 108,726 | 111,988 _|\\n\\n|S\\n\\n6 112,979 | 116,368 | 119,859 | 123,455 | 127,158\\n8 115,193 | 118,649 | 122,208 | 125.875 | 129.651\\n11\\n\\n14\\n\\n17\\n\\n    \\n   \\n\\n  \\n\\n \\n   \\n\\n117,410 120,932 124,560 128,297 132,146\\n130,718\\n133,136\\n139,426\\n\\n \\n \\n\\n    \\n   \\n   \\n  \\n\\n       \\n\\n \\n\\nOfficers Hired After 1/1/15 - Schedule B\\n\\n   \\n\\n3.0%\\n\\n \\n  \\n\\n2019 2020 2021\\nFackiemy | veue | arses | anese | cower | s1o10_\\nAcadem 46,148 47,533 48,959 50,427\\n\\x0c128,297 132,146\\n\\n130,718 134,629\\n133,138 137,132\\n\\n127,777\\n: 130,333 :\\n129,018 132,888 140, 145,211\\n131,499 148,003\\n150,796\\n\\n3. 3.0% 3.0%\\n2022 2023\\n129,926 | 133,824 | 137,839 | 141974 146,233\\n732474 {136.449 [140,542 | 144 768 | tae\\n135,022\" | 139,072\\n\\n143,244 147,542 151,968\\n137,569 141,696\\n140,117 144,321\\n\\n    \\n       \\n   \\n \\n\\nThe parties differences on the Salary issue center mainly on their varying\\nviews of the Township\\'s budget and overall finances,\\n\\nerspectives on the reasonableness of their respective final offers, the evidence\\n\\ntheir Conflicting\\n\\x0coffered on salary comparisons with specified municipal law enforcement labor\\nagreements and the weight to be given to intemal settlements.\\n\\nIn respect to financial impact and the statutory appropriation and tax levy\\nlimitations, the record mainly includes documentary evidence, financial reports\\nand argument. These have all been fully reviewed and considered. The breadth\\nof the data and opinions offered are broad in scope and cannot be set forth in\\nfull. | initially wilt summarize the differences in the cost of the proposals. | note\\nthat the costs of the estimated proposals as calculated by each party are not\\nidentical but are generally consistent which allow for proper analysis without\\nregard to the rather minimal differences in the actual estimated costs.\\n\\nPBA Estimated Costs\\nCost Out of Township Proposal\\n\\n90,711 93,217\\n\\n \\n\\nOldGuide 17 $1,968,355 $ 1,974,804 $ 2,019,704 $ 2,071,696 $ 2,113,117 $ 2,168\\n\\n \\n\\n31\\n\\x0cCost Out of the P.B.A. Proposal\\n\\n103,907 $ 109,380 $\\n\\n \\n\\n\\\\ Guide RT\\n\\n3.51%\\n\\n \\n\\n$4,908 $ 4,138\\n\\nem § Aen S Ame SME § ATO $4081 AD\\n\\nPercentage S46%\\n\\n2019 -CY 1\\n2020 - CY 2\\n2021 - CY3\\n\\n2022 - CY 4\\n\\n2019 - CY 1\\n2020 - CY 2\\n2021-CY3\\n2022 - CY 4\\n\\n \\n\\x0cThe main contentions of the PBA in support of its salary proposals center\\non the following points:\\n\\ne The Department has been understaffed due to the Township\\'s\\nfailure to fill ten (10) positions following layoffs in 2010. This has\\ncaused remaining officers to fulfill their responsibilities to the public\\nin a more productive, efficient and least costly fashion.\\n\\ne The Township cannot make credible arguments alleging financial\\nconstraint while simultaneously rejecting $200,000 in healthcare\\nsavings that it would derive by a switch in its health care plan.\\n\\ne The Township\\'s salary offer is inconsistent with an alleged pattern\\nof intemal settlements with its other bargaining units, none of which\\nreceived a 0% as the Township has proposed here and all of which\\nreceived minimum 2% across the board increases.\\n\\ne The PBA charts internal settlements which exceed the Township\\'s\\n\\n \\n\\nOffer to the PBA:\\nSaat Raises Exhibit and\\nPage .\\nAdministrative 2019 -2% Exhibit $ P.i\\nSupport Staff Note- in 20:7 and\\n2017-2019 20:8 the raises\\nwere $3,500 * 2%\\nper year\\nunited Service 2% per year Exhibit 6 P.iS ”\\nWorkers’ Union across the board\\n2017-202:\\nGovernment 2% per year Exhibit 7 P.28\"\\nWorkers Union across the board\\n2016-2019\\n\\ne The annual increases in private sector wage changes in PERC\\'s\\nannual report show wage increases consistent with the PBA’s\\nproposal. The PBA’s wage proposal is also consistent with\\nincreases in New Jersey State government.\\n\\ne While calculating its own proposal as a 5.4% average per year\\ninclusive of step movement, the PBA asserts its proposal is more in\\nline with interest arbitration awards on a year over year average\\ncost basis including step movement than the Township\\'s. It cites\\nto:\\n\\x0c- Ocean County Corrections 4.5%\\n\\n- Evesham Township Fire District 4.25%\\n- Boonton PBA 6.67%\\n\\n- West Windsor PBA 5.1%\\n\\ne The PBA cites the results of voluntary settlements in what it views\\nas comparable municipal law enforcement departments:\\n\\n- Stafford Township PBA 2% + Steps 2017-2020\\n- Galloway Township PBA 1.95% + Steps 2014-2021\\n\\ne The PBA submits its comprehensive financial report supports the\\nability of the Township to fund its proposal without adverse financial\\nimpact and within the Township\\'s statutory cap limitations.\\n\\ne Citing various revenue sources, tax collection rates and historical\\nregeneration of fund balances, the PBA contends that the evidence\\nreflects that the Township has a stable pattem of revenues that\\novershadow short-term disruption, including those COVID related\\nand payback of FEMA loans thus showing that any revenue\\nshortfalls or loan payments are not structural in nature.\\n\\ne The PBA cites evidence that the Township has appropriated funds\\nwell within its spending authority and below its statutory cap on\\nincreases in its tax levy. It points to statistical data showing that the\\nTownship\\'s levies over the past three years to have been $1.1\\nmillion below its allowable statutory CPA.\\n\\ne The PBA submits that its cost analysis of the respective salary\\nproposals shows that an award of its proposal over the five years\\nwould result in only an additional monthly tax and annual tax\\nincrease of $0.63 and $7.52 on average.\\n\\nThe Township does not share the PBA\\'s view as to its financial health. Its\\nfinancial report from CFO Haines includes evidence and argument in support of\\nits salary proposals. The main points raised in its submission include:\\n\\ne The $4.2 Million Community Disaster loan from the Federal Government\\n\\nafter Super Storm Sandy in 2012 were, by necessity, used in 2013\\n\\nthrough 2015 as revenue to supplement the budget and have been the\\nTownship\\'s main source of surplus.\\n\\x0ce The majority of the FEMA loan must be repaid and is expected to be paid\\nin full by 2023.\\n\\ne Reduction in surplus has forced the Township to increase taxes by 6.9\\ncents in 2019.\\n\\n© The Township cites the substantial impact law enforcement salaries have\\non its budget which now calculates to almost one-third of its annual\\noperating budget not including pension and benefits received by current\\nemployees and retirees.\\n\\ne The Township also cites to municipalities it submits are comparable in\\ndemographics, size and relative socioeconomic status as Little Egg\\nHarbor (Galloway Township and Lacey Township) who eam “significantly\\nless” than the salaries now received by the PBA.\\n\\nAs is normally the case in disputes over salary, there is rarely a single fact\\nor simple set of facts that are determinative of its disposition. The PBA does\\nassert the existence of a “pattern of settlement’ in the Township\\'s bargaining\\nunits. If such pattem is alleged to exist, the arbitrator is compelled determine\\nwhether it is so, and if so, to decide the weight to be given to the proven\\nsettlement pattem with an explanation that there should either be adherence or\\nnon-adherence to the pattem. The precedent on pattern is based on the\\napplication of N.J.S.A. 34:13A-16(gX(2)(c). Here, while | find that evidence on\\nintemal comparability to be relevant and entitled to significant weight, | do not\\nfind the presence of a “pattem of settlement’ that supports an award of the PBA’s\\nlast offer or the imposition of a salary award for any specific year simply because\\nan existing agreement contains a salary figure that is above or below what the\\n\\nPBA has offered.\\n\\n35\\n\\x0cThe reasons for these conclusions are several. First, the Administrative\\nSupport Staff, while receiving a 2% increase in 2019, agreed to this increase in a\\ncontract beginning in 2017 and concluding in 2019. The PBA contract term will\\nbe 2019 through 2023 and impasse was not declared until early 2020. Similarty,\\nthe Government Workers Union negotiated a contract with a 2016-2019 duration\\nand received a 2% increase for 2019. These agreements were negotiated well\\nprior to the 2019 budget year where the record reflects a negative change in the\\nTownship’s budget. The Agreement that more clearly resembles the contract\\nduration for the PBA is that with the United Service Workers Union which runs\\nfrom 2017-2021. The agreement does call for 2% annual increases. However,\\nthe agreement includes the incorporation of a prior 2017-2020 agreement where\\nsalary increases were set prior to the 2019 budget and the incorporation of its\\nterms in addition to a one year 2021 increase. The expirations of these\\nagreements fall at a time well before the expiration of the PBA Agreement. Thus,\\nthe span of years, as well as the timing of the increases, does not dictate that a\\nstrict pattem of settlement exists. The budgetary implications for the PBA salary\\ndisposition will be addressed in the analysis of the 5 year salary award below.\\nAn additional factor that requires differentiation is the presence of the disputed\\nChapter 78 employee contribution issue in the PBA negotiations which, as a cost\\nissue, must consider its financial impact on the Township\\'s finances, as well as\\n\\nthe salary issue.\\n\\x0cIn the absence of a pattem of settlement that might potentially require\\nadherence, the disposition of the salary issue requires consideration of all of the\\nrelevant evidence and the application of the statutory criteria. It is clear from the\\nmanner in which the criteria has been constructed, that the greatest weight must\\nbe given to the interest and welfare of the public criterion (N.J.S.A. 34:13A-\\n16(6\\\\1)] due to its many interrelationships it has with the remaining criteria. The\\nexplanation for the predominant weight to be given to this criterion will follow the\\nwage increases to be awarded which | have concluded, on this record, to\\nrepresent a reasonable determination of the salary issue. The wages awarded\\nalso have taken into consideration the overall financial impact of the Award,\\n\\nincluding the treatment of the Chapter 78 employee contributions issue.\\n\\nBased on all of the above, | have awarded step increases only for 2019, a\\n2% across the board increase plus step movement for 2020, a 2.25% across the\\nboard increase plus step movement for 2021 and 2022 and a 2% across the\\n\\nboard increase plus step movement for 2023.\\n\\nAlthough the PBA has established that the Township has had financial\\nflexibility within its statutory spending and taxing limitations (N.J.S.A. 34:13A4-\\n16(g(1) and (5)], | find the financial impact of an award beyond the 2.87% cost of\\nstep movement in 2019 would have adverse financial impact on the governing\\nbody, its residents and taxpayers due to the demonstrated constraints on that\\nbudget year which not only impact that year but ensuing years by adding the flow\\n\\n37\\n\\x0cthrough costs of an increase sought by the PBA for that year of 3% or the cost of\\nits hypothetical cost analysis for a 2.25% increase. In particular, weight must be\\ngiven to sharp reductions in Excess Operation dollars in 2019, the sharply\\nreduced percentage of budget recovered in 2019, the sharply reduced fund\\nbalance in 2019 and data showing a drop in the Township\\'s ability to regenerate\\nfunds to use as revenue as it did in the recent past. | do agree with the PBA’s\\nfinancial expert’s conclusion that the financial data for that year does not reflect a\\nstructural problem and that a retum to greater financial health will likely resume\\nthereafter. This will enable a resolution of the wage issue for years 2020 through\\n2023 at a level above the Township proposal of 1.5% but below the PBA’s 3.0%\\nproposal for the remaining years, as well as a partial, but favorable, consideration\\nto the PBA’s proposal for a reduction in the percentages of employee contribution\\n\\ntowards health insurance premiums starting in 2023.\\n\\nThe terms of the Award have considered the remaining criteria as well.\\nThe municipalities offered for comparison are valid for that purpose [N.J.S.A.\\n34:13A-16(g\\\\2)]. Such comparisons are relevant but not dispositive of a single\\nresult. This is due to the different levels of compensation and benefits received\\nin those jurisdictions which defy precise side by side comparison. By way of\\nexample, | note that in Lacey Township, holiday pay (of 128 hours) has been\\nrolled into base pay, that in Stafford Township longevity pay has been eliminated\\nfor employees hired after January 1, 2014, as weil as in Bamegat Township for\\nemployees hired after January 1, 2018. | also note that in Little Egg Harbor,\\n\\x0clongevity pay has been rolled into the salary schedule which tends to reflect more\\nfavorable salary schedule than those municipalities that have not.\\n\\nAfter consideration of all relevant evidence, | find that a reasonable\\ndetermination of the wage issue is an award of 0%, 2.0%, 2.25%, 2.25% and\\n2.0% across the board, plus the cost of annual step movement. This, when\\ncoupled with the 1.75% cost impact to the Township resulting from the awarding\\nof reductions in the percentages employee now pay towards health insurance\\npremiums in 2023, provides reasonable consistency with the changes made in\\ncomparable law enforcement units while also addressing financial evidence\\nunique to Little Egg Harbor Township.\\n\\nThe remaining criteria are also relevant, have been considered and | find\\nthem to be in harmony with the terms of this Award. The salary terms relating to\\nthe across the board increases are generally consistent with the cost of living\\ndata (CPI). While the award is in excess of the CPI when factoring in annual step\\nmovement, | find the amount of across the board increases must be given\\ngreater weight because they represent a fixing of salary structure for the future\\nfor employees irrespective of changing seniority levels in contrast with individual\\nsalary changes that fluctuate based upon an employee\\'s length of service which\\nalways undergoes annual change but without impact on the long-term salary\\n\\nstructure.\\n\\n39\\n\\x0c| have also considered overall compensation and benefits received by unit\\nemployees [N.J.S.A. 34:13A-16(g)(3)]. This does not stand alone and requires\\nconsideration of current levels compared with similar units in comparable\\nmunicipalities. There is nothing in this record that would dictate a result that\\nwould significantly depart from this award based on the overall compensation\\ncriterion. The Township\\'s police officers are well compensated, receive more\\nthan fair benefit levels without being hindered by any significant “inequity” that\\nwould require a qualitative change to cure. Simply put, this Award will maintain\\nrelative balance in the wages and terms of employment between this unit and\\nneighboring units without setting terms in this unit simply because they may exist\\nelsewhere. On a year by year basis, without cost of yearty compounding, the\\nwage costs are identical to the Township’s estimate of $4,150,218 in 2019, with\\nan additional cost of 0.5% in 2020, an additional cost of 0.75% in 2021 and 2022\\nand an additional cost of 0.5% in year 2023. Based on review of financial expert\\nevidence, the additional costs are projected to fall within the Township\\'s\\nspending and taxing limitations and cause reasonable financial impact that can\\nbe borne within its overall financial obligations to the Township, its residents and\\n\\ntaxpayers.\\n\\nFinally, | note the PBA has proposed a merging of the salary schedules in\\nSchedule A and Schedule B. Although | find it reasonable for the parties to do\\nso, | do not award this proposal and instead defer to the parties’ apparent\\nwillingness to construct a single schedule voluntarily and in a structure found to\\n\\n40\\n\\x0cbe mutually agreeable. In the absence of such agreement, | award a\\n\\ncontinuation of Schedules A and B for the remainder of this Agreement.\\n\\nBased upon all of the above, | respectfully enter the terms of this Award.\\n\\nAWARD\\n\\n \\n\\n1. All proposals by the Township and the PBA not awarded herein are\\ndenied and dismissed. All provisions of the existing agreement shall be\\ncarried forward except for those which have been modified by the terms of\\n\\nthis Award.\\n2. Duration - January 1, 2019 through December 31, 2023\\n3. In n = 7\\n\\n| award a reduction in Chapter 78 contribution rates shall be revised\\nfrom Year 4 to Year 3 effective January 1, 2023.\\n\\n4. Wages\\nThe wage schedules for the contract duration awarded shall be:\\n\\nOfficers Hired Before 1/1/15 — Schedule A\\n\\n  \\n  \\n \\n \\n\\n2.0%\\n[| 2020_|\\n\\n2.0%\\n5 [2019 [2021 | 2022” | 2023\\nre\\n\\nreader sere_|_an779\\n\\nAcademy | 56,095 57,216 58,504 59,820 61,017\\n2 65,958 67.277 68,790 70,338 71,745\\n3 75,709 77,223 78,960 80,736 82,350\\n\\n105,078\\n119,313\\n\\n2.25%\\n\\n     \\n\\n \\n\\n   \\n\\n       \\n\\n       \\n\\n    \\n     \\n     \\n \\n\\n     \\n\\n   \\n\\n \\n\\n  \\n\\n113,990 | 116,269 | 118,885 | 121,561 | 123,992\\n14 116.141 | 118,464 | 121,129 | 123,855 | 126,332\\n17 118,290 | 120,655 | 123,370 | 126,146 | 128,669\\n[20 | 123,878 | [129,199 | 132,106 [134,748 _|\\n\\n \\n\\n      \\n  \\n\\n \\n   \\n \\n\\n41\\n\\x0cOfficers Hired After 1/1/15 — Schedule B\\n\\n  \\n       \\n\\n0: . 610\\n74,931 76,617 78,341 79,907\\n79,251 80,836 82,654 84,514 86,204\\n85,040 86,740 88,692 90,688 92,501\\na ae\\n\\n92,645\\n\\n7 : .\\n\\n8 96,618 98,550 100,767 103,035 105,096\\n9 102,407 104,455 106,805 109,209 111,393\\n10 108,195 110,358 112,842 115,381 117,689\\n11\\n\\n14\\n\\n113,990 | 116,269 | 118,885 | 121,561 | 123,992\\n116,141 | 118,464 | 121,129 | 123,855 | 126,332\\n17 118,291 | 120,655 | 123,370 | 126,146 | 128,669\\n| 20 | 123,878 | 126,356 | 129,199 | 132,106 | 134,748 _|\\n\\nSergeants in Grade 1-3 years\\n\\n2019 2020 2021 2022 2023\\n120,442 | 122,851 | 126.441 | 128,441 | 131,010\\n122,851 | 125,308 | 128.127 | 131,010 | 133,631\\n\\n127,765\\n\\nbegin 11 127,669 130,222 133,152 136,148 138,871\\n\\nbegin 14 130,078 132,680 135,665 138,717 141,491\\n\\nbegin 17 132,486 135,136 138,177 141,285 144,111\\n3\\n\\n \\n\\n     \\n\\nbegin 11 133,711 139,795 [| 142,591\\nbegin 14 | 133,562 | 136,233 | 139,298 | 142.432 | 145.281\\nbegin 17_| 136,036 | 138,757 | 141,879 | 145,071 | 147,972\\n\\n \\n\\n42\\n\\x0cAll employees eligible for step movement shall move to the next step they\\nare eligible for annually consistent with the manner in which they have\\ndone so in the past.\\n\\nAll increases shall be effective and retroactive to their annual effective\\ndates each January 1. All existing employees and those who have retired\\non normal or accidental disability shall be entitled to retroactivity.\\n\\nDated: September 4, 2020\\nSea Girt, New Jersey . Mastriani\\n\\nState of New Jersey }\\nCounty of Monmouth }ss:\\n\\nOn this 4\" day of September, 2020, before me personally came and\\nappeared James W. Mastriani to me known and known to me to be the individual\\ndescribed in and who executed the foregoing instrument and he acknowledged to\\nme that he executed same.\\n\\n \\n\\n43\\n\\x0c'"
      ]
     },
     "execution_count": 45,
     "metadata": {},
     "output_type": "execute_result"
    }
   ],
   "source": [
    "#\n",
    "text = file_data_mastriani.at[0,\"Raw Text\"]\n",
    "text"
   ]
  },
  {
   "cell_type": "code",
   "execution_count": 103,
   "id": "b1d1c56b",
   "metadata": {},
   "outputs": [],
   "source": [
    "#Split into blocks of text\n",
    "blocks = text.split(\"\\n\")"
   ]
  },
  {
   "cell_type": "code",
   "execution_count": 104,
   "id": "77023b79",
   "metadata": {
    "scrolled": false
   },
   "outputs": [
    {
     "data": {
      "text/plain": [
       "['FINAL T OFFER:',\n",
       " 'PBA LOCAL 295',\n",
       " '\\x0cTHE TOWNSHIP',\n",
       " 'BACKGROUND',\n",
       " 'DISCUSSION',\n",
       " 'STIPULATIONS',\n",
       " 'ARTICLE XV — INSURANCE, HEALTH AND WELFARE',\n",
       " 'HEALTH BENEFITS PREMIUM CONTRIBUTION RATES',\n",
       " 'FOR SINGLE COVERAGE',\n",
       " 'HEALTH BENEFITS PREMIUM CONTRIBUTION RATES',\n",
       " 'FOR FAMILY COVERAGE',\n",
       " 'HEALTH BENEFITS PREMIUM CONTRIBUTION RATES',\n",
       " 'MEMBER/SPOUSE/PARTNER OR PARENT/CHILD COVERAGE',\n",
       " 'ARTICLE XIV — RATES OF PAY',\n",
       " 'SCHEDULE A -— SALARY GUIDE',\n",
       " '[SS SSF. 202',\n",
       " 'SCHEDULE B - SALARY GUIDE',\n",
       " 'PBA',\n",
       " '|S',\n",
       " '2019 -CY 1',\n",
       " '2020 - CY 2',\n",
       " '2021 - CY3',\n",
       " '2022 - CY 4',\n",
       " '2019 - CY 1',\n",
       " '2020 - CY 2',\n",
       " '2021-CY3',\n",
       " '2022 - CY 4',\n",
       " 'AWARD']"
      ]
     },
     "execution_count": 104,
     "metadata": {},
     "output_type": "execute_result"
    }
   ],
   "source": [
    "#Identify potential section headers\n",
    "potential_headers = [block for block in blocks if block.isupper()]\n",
    "potential_headers "
   ]
  },
  {
   "cell_type": "code",
   "execution_count": 87,
   "id": "dc30bd7a",
   "metadata": {},
   "outputs": [
    {
     "name": "stdout",
     "output_type": "stream",
     "text": [
      "FINAL T OFFER:\n",
      "BACKGROUND\n",
      "DISCUSSION\n",
      "AWARD\n"
     ]
    }
   ],
   "source": [
    "#From list of headers identify FINAL OFFER section\n",
    "final_offers_header = \"\".join([header for header in potential_headers if \"FINAL\" in header])\n",
    "print(final_offers_header)\n",
    "\n",
    "#From list of headers identify BACKGROUND section\n",
    "background_header = \"\".join([header for header in potential_headers if \"BACKGROUND\" in header])\n",
    "print(background_header)\n",
    "\n",
    "#From list of headers identify DISCUSSION section\n",
    "discussion_header = \"\".join([header for header in potential_headers if \"DISCUSSION\" in header])\n",
    "print(discussion_header)\n",
    "\n",
    "#From list of headers identify award section\n",
    "award_header = \"\".join([header for header in potential_headers if \"AWARD\" in header])\n",
    "print(award_header)\n"
   ]
  },
  {
   "cell_type": "markdown",
   "id": "9ddd9ab2",
   "metadata": {},
   "source": [
    "### FINAL OFFERS"
   ]
  },
  {
   "cell_type": "code",
   "execution_count": 102,
   "id": "e235c883",
   "metadata": {},
   "outputs": [
    {
     "name": "stdout",
     "output_type": "stream",
     "text": [
      "Union header: PBA LOCAL 295\n",
      "Employer header: \f",
      "THE TOWNSHIP\n",
      "\n",
      "Union final offer:\n",
      " PBA LOCAL 295\n",
      "1. Term of contract\n",
      "a. 5 years. January 1, 2019 —- December 31, 2023.\n",
      "2. Salary\n",
      "\n",
      "a. 3% per year across the board on each step of the\n",
      "salary schedules with annual step movement.\n",
      "\n",
      "b. Proposed new salary guides with the merger of the\n",
      "two existing salary schedules into one.\n",
      "\n",
      "3. Healthcare\n",
      "\n",
      "a. Enroll in State Health Benefits Base Plan Direct 10/20\n",
      "or 20/30.\n",
      "\n",
      "b. Reduce Chapter 78 benefits to tier or year three in\n",
      "2020 and to tier or year two in 2021.\n",
      "\n",
      "Cc. Township to pay Medicare Part B for all retirees.\n",
      "\n",
      "4. Incorporate Stipulations into the Award\n",
      "\n",
      "Employer final offer:\n",
      " \f",
      "THE TOWNSHIP\n",
      "\n",
      "The Township offers to maintain the salary step system with step\n",
      "movement for each contract year and add an additional percentage increase to\n",
      "each step of the salary schedules in the amounts of 0% in 2019 and 1.5% in\n",
      "2020, 2021, 2022 and, 2023. It proposes the same 5 year duration of contract as\n",
      "\n",
      "proposed by the PBA. It rejects all other proposals.\n",
      "\n",
      "\n"
     ]
    }
   ],
   "source": [
    "#Extract final offer text as the text between final offer header and background header\n",
    "final_offer_text = text[text.index(final_offers_header):text.index(background_header)]\n",
    "\n",
    "#Within the final offer text, identify potential parties\n",
    "final_offer_blocks = final_offer_text.split(\"\\n\")\n",
    "potential_headers_fo = [block for block in final_offer_blocks if block.isupper()]\n",
    "\n",
    "#Assign party headers\n",
    "if len(potential_headers_fo) == 3:\n",
    "    union_offer_header = potential_headers_fo[1]\n",
    "    employer_offer_header = potential_headers_fo[2]\n",
    "    print(\"Union header:\", union_offer_header)\n",
    "    print(\"Employer header:\", employer_offer_header + \"\\n\")\n",
    "\n",
    "    #Extract union final offer text and employer final offer text\n",
    "    union_offer_text = final_offer_text[final_offer_text.index(union_offer_header):\n",
    "                                   final_offer_text.index(employer_offer_header)]\n",
    "    employer_offer_text = final_offer_text[final_offer_text.index(employer_offer_header):]\n",
    "\n",
    "    print(\"Union final offer:\\n\", union_offer_text)\n",
    "    print(\"Employer final offer:\\n\", employer_offer_text)\n"
   ]
  },
  {
   "cell_type": "code",
   "execution_count": 76,
   "id": "3dfc8c76",
   "metadata": {},
   "outputs": [
    {
     "data": {
      "text/plain": [
       "['FINAL T OFFER:',\n",
       " 'BACKGROUND',\n",
       " 'DISCUSSION',\n",
       " 'ARTICLE XV — INSURANCE, HEALTH AND WELFARE',\n",
       " 'HEALTH BENEFITS PREMIUM CONTRIBUTION RATES\\nFOR SINGLE COVERAGE',\n",
       " 'HEALTH BENEFITS PREMIUM CONTRIBUTION RATES\\nMEMBER/SPOUSE/PARTNER OR PARENT/CHILD COVERAGE',\n",
       " 'ARTICLE XIV — RATES OF PAY',\n",
       " '|S',\n",
       " '2019 -CY 1\\n2020 - CY 2\\n2021 - CY3',\n",
       " '2022 - CY 4',\n",
       " '2019 - CY 1\\n2020 - CY 2\\n2021-CY3\\n2022 - CY 4',\n",
       " 'AWARD']"
      ]
     },
     "execution_count": 76,
     "metadata": {},
     "output_type": "execute_result"
    }
   ],
   "source": [
    "potential_headers"
   ]
  },
  {
   "cell_type": "markdown",
   "id": "236a6369",
   "metadata": {},
   "source": [
    "### Identify BACKGROUND, DISCUSSION, and AWARD"
   ]
  },
  {
   "cell_type": "code",
   "execution_count": 112,
   "id": "7e44b2f3",
   "metadata": {},
   "outputs": [
    {
     "name": "stdout",
     "output_type": "stream",
     "text": [
      "Background text:\n",
      " BACKGROUND\n",
      "\n",
      "This impasse arises in Little Egg Harbor Township, an Ocean County\n",
      "municipality. It has a total area of 73 square miles, 25 of which is water. The\n",
      "Township is unique in that it completely  ...\n",
      "\n",
      "Discussion text:\n",
      " DISCUSSION\n",
      "\n",
      "As indicated, the disputed issues at impasse mainly concern salary and\n",
      "health insurance. The salary issue concems what shall the amount, if any, of\n",
      "across the board increases be for each y ...\n",
      "\n",
      "Award text:\n",
      " AWARD\n",
      "\n",
      " \n",
      "\n",
      "1. All proposals by the Township and the PBA not awarded herein are\n",
      "denied and dismissed. All provisions of the existing agreement shall be\n",
      "carried forward except for those which have been m ...\n",
      "\n"
     ]
    }
   ],
   "source": [
    "# Extract background text as the text between final offer header and background header IF \n",
    "# BACKGROUND comes before DISCUSSION. If this is the case, also extract the discussion\n",
    "# text as the text between the discussion header and the award header. Lastly e\n",
    "if text.index(background_header) < text.index(discussion_header): \n",
    "    \n",
    "    background_text = text[text.index(background_header) : text.index(discussion_header)]\n",
    "    print(\"Background text:\\n\", background_text[0:200],\"...\\n\")\n",
    "    \n",
    "    discussion_text = text[text.index(discussion_header) : text.index(award_header)]\n",
    "    print(\"Discussion text:\\n\", discussion_text[0:200],\"...\\n\")\n",
    "    \n",
    "    award_text = text[text.index(award_header):]\n",
    "    print(\"Award text:\\n\", award_text[0:200], \"...\\n\")\n",
    "    "
   ]
  },
  {
   "cell_type": "markdown",
   "id": "2c2fb11b",
   "metadata": {},
   "source": [
    "### DISCUSSION"
   ]
  },
  {
   "cell_type": "code",
   "execution_count": 118,
   "id": "5e56b5e6",
   "metadata": {},
   "outputs": [
    {
     "data": {
      "text/plain": [
       "['ARTICLE XV — INSURANCE, HEALTH AND WELFARE',\n",
       " 'HEALTH BENEFITS PREMIUM CONTRIBUTION RATES\\nFOR SINGLE COVERAGE',\n",
       " 'HEALTH BENEFITS PREMIUM CONTRIBUTION RATES\\nMEMBER/SPOUSE/PARTNER OR PARENT/CHILD COVERAGE',\n",
       " 'ARTICLE XIV — RATES OF PAY',\n",
       " '|S',\n",
       " '2019 -CY 1\\n2020 - CY 2\\n2021 - CY3',\n",
       " '2022 - CY 4',\n",
       " '2019 - CY 1\\n2020 - CY 2\\n2021-CY3\\n2022 - CY 4']"
      ]
     },
     "execution_count": 118,
     "metadata": {},
     "output_type": "execute_result"
    }
   ],
   "source": [
    "discussion_blocks = discussion_text.split(\"\\n\\n\")\n",
    "\n",
    "#Extract potential subheaders\n",
    "potential_subheaders_d = [block for block in discussion_blocks if block.isupper()][1:]\n",
    "potential_subheaders_d"
   ]
  },
  {
   "cell_type": "markdown",
   "id": "681e62ac",
   "metadata": {},
   "source": [
    "### AWARD"
   ]
  },
  {
   "cell_type": "code",
   "execution_count": 159,
   "id": "84fa8f7f",
   "metadata": {},
   "outputs": [
    {
     "name": "stdout",
     "output_type": "stream",
     "text": [
      "1. All proposals by the Township and the PBA not awarded herein are\n",
      "2. Duration - January 1, 2019 through December 31, 2023\n",
      "3. In n = 7\n",
      "4. Wages\n"
     ]
    }
   ],
   "source": [
    "award_blocks = award_text.split('\\n')\n",
    "\n",
    "for block in award_blocks:\n",
    "    p = re.compile(\"[0-9]+\\.+[\\s]+.*\") #Match all things of the form \"1. \"\n",
    "    if p.match(block):\n",
    "        print(p.match(block).group(0))"
   ]
  }
 ],
 "metadata": {
  "kernelspec": {
   "display_name": "Python 3 (ipykernel)",
   "language": "python",
   "name": "python3"
  },
  "language_info": {
   "codemirror_mode": {
    "name": "ipython",
    "version": 3
   },
   "file_extension": ".py",
   "mimetype": "text/x-python",
   "name": "python",
   "nbconvert_exporter": "python",
   "pygments_lexer": "ipython3",
   "version": "3.8.10"
  }
 },
 "nbformat": 4,
 "nbformat_minor": 5
}
