{
 "cells": [
  {
   "cell_type": "markdown",
   "id": "4a23cdce",
   "metadata": {},
   "source": [
    "# Comparing ABBYY Finereader to Tesseract OCR"
   ]
  },
  {
   "cell_type": "markdown",
   "id": "efb16355",
   "metadata": {},
   "source": [
    "## Setup"
   ]
  },
  {
   "cell_type": "code",
   "execution_count": 15,
   "id": "caa8fafa",
   "metadata": {},
   "outputs": [],
   "source": [
    "#Imports\n",
    "import os\n",
    "from bs4 import BeautifulSoup\n",
    "\n",
    "#Set directory to new_jersey_arbitration\n",
    "fldr = \"C:/Users/marti/new_jersey_arbitration/\"\n",
    "\n",
    "#Load arbitration as html(converted from ABBYY)\n",
    "os.chdir(fldr + \"abbyy_processing/html/\")\n",
    "with open('IA-2020-005 AwardIndex=6.htm', 'r', encoding=\"utf8\") as f:\n",
    "    page = f.read()\n",
    "    \n",
    "#Create soup\n",
    "ia_soup = BeautifulSoup(page, \"lxml\")\n",
    "\n",
    "#Extract text from ABBYY html file\n",
    "abbyy_text = ia_soup.get_text()\n",
    "\n",
    "#Load in text from Tesseract OCR\n",
    "os.chdir(fldr + \"ocr_ia/text/\")\n",
    "with open(\"IA-2020-005 AwardIndex=6.txt\", \"r\") as f:\n",
    "    ocr_text = f.read()\n",
    "    \n",
    "#Create dictionary of text for analysis\n",
    "text_dict = {\n",
    "    \"ABBYY\" : abbyy_text,\n",
    "    \"Tesseract\" : ocr_text\n",
    "    }"
   ]
  },
  {
   "cell_type": "markdown",
   "id": "38c8dc05",
   "metadata": {},
   "source": [
    "## Compare Text"
   ]
  },
  {
   "cell_type": "code",
   "execution_count": 16,
   "id": "0a84f215",
   "metadata": {
    "scrolled": true
   },
   "outputs": [
    {
     "name": "stdout",
     "output_type": "stream",
     "text": [
      "Source: ABBYY\n",
      "sel and On the Brief\n",
      "Donald C. Barbati, Esq. - On the Brief\n",
      "Crivelli & Barbati\n",
      "On September 23, 2019, PBA Local 258 filed a Petition to Initiate Compulsory Interest Arbitration with the New Jersey Public Employment Relations Commission. On September 25, 2019, PERC notified the County of the PBA’s Petition. On September 26, 2019, the County made a request to utilize PERC's mediation services. On October 2, 2019, the PBA notified PERC that it preferred to have the appointment of an interest arbitr\n",
      "\n",
      "Source: Tesseract\n",
      "Esq. - Of Counsel and On the Brief\n",
      "Donald C. Barbati, Esq. - On the Brief\n",
      "\n",
      "Crivelli & Barbati\n",
      "\f",
      "On September 23, 2019, PBA Local 258 filed a Petition to Initiate\n",
      "Compulsory inferest Arbitration with the New Jersey Public Employment Relations\n",
      "Commission. On Sepiemper 25, 2019, PERC notified the County of the PBA's\n",
      "Petition. On September 26, 2019, the County made a request to utilize PERC's\n",
      "mediation services. On October 2, 2019, fhe PBA nolified PERC thai it preferred\n",
      "to have the appointment of an\n",
      "\n"
     ]
    }
   ],
   "source": [
    "for source, text in text_dict.items():\n",
    "    print(\"Source:\", source)\n",
    "    print(text[500:1000])\n",
    "    print(\"\")"
   ]
  },
  {
   "cell_type": "code",
   "execution_count": 17,
   "id": "820ad852",
   "metadata": {},
   "outputs": [
    {
     "name": "stdout",
     "output_type": "stream",
     "text": [
      "['NEW JERSEY PUBLIC EMPLOYMENT RELATIONS COMMISSION', 'COUNTY OF OCEAN,', 'PBA LOCAL 258 (CORRECTIONS OFFICERS),', 'INTEREST ARBITRATION DECISION &\\xa0AWARD', 'FINAL OFFERS OF THE PARTIES', 'STEP', '7/1/2019 3% ATB', '7/1/2020 3% ATB', '7/1/2021 3% ATB', 'HEALTH BENEFITS PREMIUM CONTRIBUTION RATES', 'FOR SINGLE COVERAGE AS OF JANUARY 1,2020', 'HEALTH BENEFITS PREMIUM CONTRIBUTION RATES FOR FAMILY COVERAGE AS OF JANUARY 1,2020', '4. MODIFICATION OF ARTICLE 34 - ON THE JOB INJURY POLICY:', 'NON-ECONOMIC', '7. DELETE ARTICLE 28- AGENCY SHOP', 'BACKGROUND', 'DISCUSSION', 'HALF2', 'ECONOMIC ISSUES', 'STEP', 'NON-ECONOMIC ISSUES', '[1T64:12-65:2.]', '[1T68:13-69:6.]', '[1T69:7-7O:7.]', '[1T7O:8-71:9.]', '[1T113:9-20.]', '[1TI58:8-160:4.]', 'CONCLUSION', 'AWARD']\n",
      "['NEW JERSEY PUBLIC EMPLOYMENT RELATIONS COMMISSION', 'COUNTY OF OCEAN,', 'ARBITRATION', 'PBA LOCAL 258 (CORRECTIONS', 'OFFICERS),', '\\x0cFINAL OFFERS OF THE PARTIES', '7 ‘STEP 9/1/2018 T//2019 7/1/2020 7/1/2021', '3% ATB 3% ATB 3% ATB', 'Z $64,000 $65,920 $67,898 $69,935', 'VA 192,000. 94,760 97 6093 $100,531', 'HEALTH BENEFITS PREMIUM CONTRIBUTION RATES', 'FOR SINGLE COVERAGE AS OF JANUARY 1, 2020', 'HEALTH BENEFITS PREMIUM CONTRIBUTION RATES.', 'FOR FAMILY COVERAGE AS OF JANUARY 1, 2020', '40,0G0-44,999.99 5.25%', 'F5,000-99,999.99 21.75%', 'HEALTH BENEFITS PREMIUM CONTRIBUTION RATES.', 'AS OF JANUARY 1, 2020', '65,000-69,999.99. A7.25%', '3. MODIFICATION TO ARTICLE 9 — HOSPITALS, SURGICAL, MAJOR MEDICAL,', '4, MODIFICATION OF ARTICLE 34 — ON THE JOB INJURY POLICY:', '\\x0cNON-ECONOMIC', '5 MODIFICATION TO ARTICLE 6 — UNIFORM MAINTENANCE ALLOWANCE —', '7. DELETE ARTICLE 28- AGENCY SHOP', '\\x0cBACKGROUND', 'DISCUSSION', '2015-01 00 -01 02 00 O4 02 02 09 02 O05 O7 04 03', 'ECONOMIC ISSUES', 'W $80,000 20,000 _| $80,000', 'NON-ECONOMIC ISSUES', '4B', '[1T358:8-1 60:4.)', 'NSA. 34:134-5.11,', 'CONCLUSION', '\\x0cAWARD', 'NJS.A, 34: 13A-5.11.']\n"
     ]
    }
   ],
   "source": [
    "# Identify potential section headers\n",
    "for source, text in text_dict.items():\n",
    "    blocks_of_text = text.split(\"\\n\")\n",
    "    \n",
    "    headers = [phrase for phrase in blocks_of_text if phrase.isupper()]\n",
    "    print(headers)"
   ]
  },
  {
   "cell_type": "code",
   "execution_count": 10,
   "id": "85c60c23",
   "metadata": {},
   "outputs": [
    {
     "data": {
      "text/plain": [
       "True"
      ]
     },
     "execution_count": 10,
     "metadata": {},
     "output_type": "execute_result"
    }
   ],
   "source": [
    "headers = [phrase for phrase in blocks_of_text if phrase.isupper()]"
   ]
  }
 ],
 "metadata": {
  "kernelspec": {
   "display_name": "Python 3",
   "language": "python",
   "name": "python3"
  },
  "language_info": {
   "codemirror_mode": {
    "name": "ipython",
    "version": 3
   },
   "file_extension": ".py",
   "mimetype": "text/x-python",
   "name": "python",
   "nbconvert_exporter": "python",
   "pygments_lexer": "ipython3",
   "version": "3.8.8"
  }
 },
 "nbformat": 4,
 "nbformat_minor": 5
}
