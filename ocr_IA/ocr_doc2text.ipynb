{
 "cells": [
  {
   "cell_type": "code",
   "execution_count": 6,
   "id": "802b16dc",
   "metadata": {},
   "outputs": [],
   "source": [
    "import doc2text\n",
    "from glob import glob\n",
    "from pdf2image import convert_from_path\n",
    "import os\n",
    "\n",
    "#Folder of pdfs:\n",
    "pdf_folder = os.path.join(os.getcwd(),'pdf','')\n",
    "pdf_files = glob(pdf_folder + '/*.pdf')\n",
    "\n",
    "#Temp folder to save images\n",
    "image_folder = os.path.join(os.getcwd(), 'temp','')\n",
    "\n",
    "# Initialize the class.\n",
    "doc = doc2text.Document()\n",
    "\n",
    "#Set language\n",
    "doc = doc2text.Document(lang=\"eng\")"
   ]
  },
  {
   "cell_type": "markdown",
   "id": "5cca8755",
   "metadata": {},
   "source": [
    "Read in the pdf file (to be converted to images). This file only reads in one of the pdfs for the sake of practice: "
   ]
  },
  {
   "cell_type": "code",
   "execution_count": 7,
   "id": "a70dfd45",
   "metadata": {
    "scrolled": true
   },
   "outputs": [],
   "source": [
    "file = pdf_files[7]\n",
    "filename = file.split('.pdf')[0].split('/')[-1]\n",
    "images = convert_from_path(file)\n",
    "images[0].save(image_folder + \"practice.jpg\", \"JPEG\")"
   ]
  },
  {
   "cell_type": "code",
   "execution_count": 8,
   "id": "844786a4",
   "metadata": {},
   "outputs": [],
   "source": [
    "doc.read(\"/home/martin/new_jersey_arbitration/ocr_IA/temp/practice.jpg\")"
   ]
  },
  {
   "cell_type": "code",
   "execution_count": 9,
   "id": "9cfa1784",
   "metadata": {},
   "outputs": [],
   "source": [
    "doc.process()"
   ]
  },
  {
   "cell_type": "code",
   "execution_count": 14,
   "id": "f9dca7a7",
   "metadata": {},
   "outputs": [],
   "source": [
    "doc.extract_text()\n",
    "text = doc.get_text()"
   ]
  },
  {
   "cell_type": "code",
   "execution_count": 15,
   "id": "9c9414cf",
   "metadata": {},
   "outputs": [
    {
     "data": {
      "text/plain": [
       "'BOROUGH OF MANTOLOKING,\\n“Public Employer,”\\nand\\nPBA LOCAL 347,\\n“Union.”\\n\\nDocket No. IA-2014-006\\n\\nAppearances:\\nRaymond A. Cassetta, Consultant\\n\\nFor the Union:\\nRichard D. Loccke, Esq.\\nLoccke Correia Limsky & Bukosky\\n\\x0c'"
      ]
     },
     "execution_count": 15,
     "metadata": {},
     "output_type": "execute_result"
    }
   ],
   "source": [
    "text"
   ]
  },
  {
   "cell_type": "code",
   "execution_count": null,
   "id": "655bd969",
   "metadata": {},
   "outputs": [],
   "source": []
  }
 ],
 "metadata": {
  "kernelspec": {
   "display_name": "Python 3 (ipykernel)",
   "language": "python",
   "name": "python3"
  },
  "language_info": {
   "codemirror_mode": {
    "name": "ipython",
    "version": 3
   },
   "file_extension": ".py",
   "mimetype": "text/x-python",
   "name": "python",
   "nbconvert_exporter": "python",
   "pygments_lexer": "ipython3",
   "version": "3.8.10"
  }
 },
 "nbformat": 4,
 "nbformat_minor": 5
}
